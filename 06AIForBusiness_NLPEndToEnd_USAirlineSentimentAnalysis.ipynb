{
 "cells": [
  {
   "cell_type": "markdown",
   "metadata": {
    "id": "kqZie_gK9KJ0"
   },
   "source": [
    "# AI For Business\n",
    "## Module : Natural Language Processing - End to end Example\n",
    "\n",
    "### Lesson 01\n",
    "### Use NLP Techniques (clustering and classification) to help understand end to end NLP Based AI Solutions\n",
    "### Problem: US Airline Twitter Data Analysis to understand Consumer Sentiments - Kaggle Dataset"
   ]
  },
  {
   "cell_type": "markdown",
   "metadata": {
    "id": "JGiY9QO--eFK"
   },
   "source": [
    "## Key Steps and Learnings Expected\n",
    "1.   Introduction,  Setup\n",
    "2.   Load a Clean Dataset\n",
    "3.   Text Processing and Analysis\n",
    "4.   Text Representation - Encoding\n",
    "5.   Text Representation - Bag of words\n",
    "6.   Text Representation - Bag of N-Grams\n",
    "7.   Text Representation - TFIDF\n",
    "8.   Word Embeddings - Word2Vec, Glove.\n",
    "9.   Visualize Embeddings\n",
    "\n",
    "\n",
    "\n",
    "\n"
   ]
  },
  {
   "cell_type": "markdown",
   "metadata": {
    "id": "bXHWuisu98nr"
   },
   "source": [
    "# STEP 1 : Understanding of the Problem Domain and Acquire Data\n",
    "\n",
    "*   We will use a Dataset for 'Twitter US Airline Sentiment'. A sentiment analysis job about the problems of each major U.S. airline.\n",
    "*   Use Data provide by https://www.kaggle.com/code/prasadmenonsrees/project-nlp-sentiment-analysis-twitter-us-air\n",
    "*   Twitter data was scraped from February of 2015 and contributors were asked to first classify positive, negative, and neutral tweets, followed by categorizing negative reasons (such as \"late flight\" or \"rude service\")."
   ]
  },
  {
   "cell_type": "code",
   "execution_count": 166,
   "metadata": {
    "executionInfo": {
     "elapsed": 974,
     "status": "ok",
     "timestamp": 1700510523227,
     "user": {
      "displayName": "Balaji Thiruvenkatachari",
      "userId": "09199609969781368622"
     },
     "user_tz": -330
    },
    "id": "aSMl2zed8_62"
   },
   "outputs": [],
   "source": [
    "import pandas as pd\n",
    "import numpy as np\n",
    "import nltk\n",
    "import re\n",
    "import string\n",
    "import os\n",
    "# import emoji\n",
    "import random\n",
    "import matplotlib.pyplot as plt\n",
    "import seaborn as sns\n",
    "from sklearn.feature_extraction.text import CountVectorizer\n",
    "\n",
    "from sklearn.feature_extraction.text import CountVectorizer, TfidfVectorizer\n",
    "from sklearn import metrics\n",
    "from sklearn.ensemble import RandomForestClassifier\n",
    "from sklearn.model_selection import train_test_split\n",
    "from sklearn.model_selection import cross_val_score\n",
    "from sklearn.model_selection import GridSearchCV\n",
    "\n",
    "from sklearn.metrics import accuracy_score,confusion_matrix,classification_report\n",
    "from mlxtend.plotting import plot_confusion_matrix\n",
    "\n",
    "from imblearn.over_sampling import SMOTE"
   ]
  },
  {
   "cell_type": "markdown",
   "metadata": {
    "id": "VLKpRgl6AmJs"
   },
   "source": [
    "## Download the datafile from Source\n",
    "Students are encouraged to Download the datafile from Kaggle Site directly.\n",
    "URL : https://www.kaggle.com/datasets/crowdflower/twitter-airline-sentiment\n",
    "File : Tweets.csv (3.42 MB) | 15 Columns"
   ]
  },
  {
   "cell_type": "markdown",
   "metadata": {
    "id": "LdPxCH79BTcF"
   },
   "source": [
    "# S1 : Data Analysis"
   ]
  },
  {
   "cell_type": "code",
   "execution_count": 83,
   "metadata": {
    "executionInfo": {
     "elapsed": 1798,
     "status": "ok",
     "timestamp": 1700506141564,
     "user": {
      "displayName": "Balaji Thiruvenkatachari",
      "userId": "09199609969781368622"
     },
     "user_tz": -330
    },
    "id": "4w4pHCtL_lp4"
   },
   "outputs": [],
   "source": [
    "df_clean_data = pd.read_csv(\"Tweets.csv\")\n",
    "df = df_clean_data.copy()"
   ]
  },
  {
   "cell_type": "code",
   "execution_count": 84,
   "metadata": {
    "colab": {
     "base_uri": "https://localhost:8080/",
     "height": 0
    },
    "executionInfo": {
     "elapsed": 10,
     "status": "ok",
     "timestamp": 1700506145158,
     "user": {
      "displayName": "Balaji Thiruvenkatachari",
      "userId": "09199609969781368622"
     },
     "user_tz": -330
    },
    "id": "XLHsHw9aBs7M",
    "outputId": "fa7cbc12-9507-4592-aa51-dd4f060dd2c9"
   },
   "outputs": [
    {
     "name": "stdout",
     "output_type": "stream",
     "text": [
      "(14640, 15)\n",
      "<class 'pandas.core.frame.DataFrame'>\n",
      "RangeIndex: 14640 entries, 0 to 14639\n",
      "Data columns (total 15 columns):\n",
      " #   Column                        Non-Null Count  Dtype  \n",
      "---  ------                        --------------  -----  \n",
      " 0   tweet_id                      14640 non-null  int64  \n",
      " 1   airline_sentiment             14640 non-null  object \n",
      " 2   airline_sentiment_confidence  14640 non-null  float64\n",
      " 3   negativereason                9178 non-null   object \n",
      " 4   negativereason_confidence     10522 non-null  float64\n",
      " 5   airline                       14640 non-null  object \n",
      " 6   airline_sentiment_gold        40 non-null     object \n",
      " 7   name                          14640 non-null  object \n",
      " 8   negativereason_gold           32 non-null     object \n",
      " 9   retweet_count                 14640 non-null  int64  \n",
      " 10  text                          14640 non-null  object \n",
      " 11  tweet_coord                   1019 non-null   object \n",
      " 12  tweet_created                 14640 non-null  object \n",
      " 13  tweet_location                9907 non-null   object \n",
      " 14  user_timezone                 9820 non-null   object \n",
      "dtypes: float64(2), int64(2), object(11)\n",
      "memory usage: 1.7+ MB\n"
     ]
    }
   ],
   "source": [
    "# Note basic observations\n",
    "print(df.shape)\n",
    "df.info()\n",
    "# Few observations : 14640 Tweets, includes both negative sentiment and positive reason. Text is key column\n",
    "# Many values are nulls - negativereason (9178),"
   ]
  },
  {
   "cell_type": "code",
   "execution_count": 85,
   "metadata": {
    "colab": {
     "base_uri": "https://localhost:8080/",
     "height": 0
    },
    "executionInfo": {
     "elapsed": 8,
     "status": "ok",
     "timestamp": 1700506146656,
     "user": {
      "displayName": "Balaji Thiruvenkatachari",
      "userId": "09199609969781368622"
     },
     "user_tz": -330
    },
    "id": "qkodjcyPEf8-",
    "outputId": "c122966a-12c3-449c-97a4-fca501ef8bc4"
   },
   "outputs": [
    {
     "data": {
      "text/plain": [
       "tweet_id                          int64\n",
       "airline_sentiment                object\n",
       "airline_sentiment_confidence    float64\n",
       "negativereason                   object\n",
       "negativereason_confidence       float64\n",
       "airline                          object\n",
       "airline_sentiment_gold           object\n",
       "name                             object\n",
       "negativereason_gold              object\n",
       "retweet_count                     int64\n",
       "text                             object\n",
       "tweet_coord                      object\n",
       "tweet_created                    object\n",
       "tweet_location                   object\n",
       "user_timezone                    object\n",
       "dtype: object"
      ]
     },
     "execution_count": 85,
     "metadata": {},
     "output_type": "execute_result"
    }
   ],
   "source": [
    "df.dtypes"
   ]
  },
  {
   "cell_type": "code",
   "execution_count": 86,
   "metadata": {
    "colab": {
     "base_uri": "https://localhost:8080/",
     "height": 206
    },
    "executionInfo": {
     "elapsed": 33,
     "status": "ok",
     "timestamp": 1700506149104,
     "user": {
      "displayName": "Balaji Thiruvenkatachari",
      "userId": "09199609969781368622"
     },
     "user_tz": -330
    },
    "id": "zfe2JSM-CNQo",
    "outputId": "3b46b55c-72a5-404f-a903-88708b6b1585"
   },
   "outputs": [
    {
     "data": {
      "text/html": [
       "\n",
       "  <div id=\"df-f512f627-b043-4031-879b-577c92574fbc\" class=\"colab-df-container\">\n",
       "    <div>\n",
       "<style scoped>\n",
       "    .dataframe tbody tr th:only-of-type {\n",
       "        vertical-align: middle;\n",
       "    }\n",
       "\n",
       "    .dataframe tbody tr th {\n",
       "        vertical-align: top;\n",
       "    }\n",
       "\n",
       "    .dataframe thead th {\n",
       "        text-align: right;\n",
       "    }\n",
       "</style>\n",
       "<table border=\"1\" class=\"dataframe\">\n",
       "  <thead>\n",
       "    <tr style=\"text-align: right;\">\n",
       "      <th></th>\n",
       "      <th>airline</th>\n",
       "      <th>text</th>\n",
       "      <th>airline_sentiment</th>\n",
       "      <th>airline_sentiment_confidence</th>\n",
       "    </tr>\n",
       "  </thead>\n",
       "  <tbody>\n",
       "    <tr>\n",
       "      <th>0</th>\n",
       "      <td>Virgin America</td>\n",
       "      <td>@VirginAmerica What @dhepburn said.</td>\n",
       "      <td>neutral</td>\n",
       "      <td>1.0000</td>\n",
       "    </tr>\n",
       "    <tr>\n",
       "      <th>1</th>\n",
       "      <td>Virgin America</td>\n",
       "      <td>@VirginAmerica plus you've added commercials t...</td>\n",
       "      <td>positive</td>\n",
       "      <td>0.3486</td>\n",
       "    </tr>\n",
       "    <tr>\n",
       "      <th>2</th>\n",
       "      <td>Virgin America</td>\n",
       "      <td>@VirginAmerica I didn't today... Must mean I n...</td>\n",
       "      <td>neutral</td>\n",
       "      <td>0.6837</td>\n",
       "    </tr>\n",
       "    <tr>\n",
       "      <th>3</th>\n",
       "      <td>Virgin America</td>\n",
       "      <td>@VirginAmerica it's really aggressive to blast...</td>\n",
       "      <td>negative</td>\n",
       "      <td>1.0000</td>\n",
       "    </tr>\n",
       "    <tr>\n",
       "      <th>4</th>\n",
       "      <td>Virgin America</td>\n",
       "      <td>@VirginAmerica and it's a really big bad thing...</td>\n",
       "      <td>negative</td>\n",
       "      <td>1.0000</td>\n",
       "    </tr>\n",
       "  </tbody>\n",
       "</table>\n",
       "</div>\n",
       "    <div class=\"colab-df-buttons\">\n",
       "\n",
       "  <div class=\"colab-df-container\">\n",
       "    <button class=\"colab-df-convert\" onclick=\"convertToInteractive('df-f512f627-b043-4031-879b-577c92574fbc')\"\n",
       "            title=\"Convert this dataframe to an interactive table.\"\n",
       "            style=\"display:none;\">\n",
       "\n",
       "  <svg xmlns=\"http://www.w3.org/2000/svg\" height=\"24px\" viewBox=\"0 -960 960 960\">\n",
       "    <path d=\"M120-120v-720h720v720H120Zm60-500h600v-160H180v160Zm220 220h160v-160H400v160Zm0 220h160v-160H400v160ZM180-400h160v-160H180v160Zm440 0h160v-160H620v160ZM180-180h160v-160H180v160Zm440 0h160v-160H620v160Z\"/>\n",
       "  </svg>\n",
       "    </button>\n",
       "\n",
       "  <style>\n",
       "    .colab-df-container {\n",
       "      display:flex;\n",
       "      gap: 12px;\n",
       "    }\n",
       "\n",
       "    .colab-df-convert {\n",
       "      background-color: #E8F0FE;\n",
       "      border: none;\n",
       "      border-radius: 50%;\n",
       "      cursor: pointer;\n",
       "      display: none;\n",
       "      fill: #1967D2;\n",
       "      height: 32px;\n",
       "      padding: 0 0 0 0;\n",
       "      width: 32px;\n",
       "    }\n",
       "\n",
       "    .colab-df-convert:hover {\n",
       "      background-color: #E2EBFA;\n",
       "      box-shadow: 0px 1px 2px rgba(60, 64, 67, 0.3), 0px 1px 3px 1px rgba(60, 64, 67, 0.15);\n",
       "      fill: #174EA6;\n",
       "    }\n",
       "\n",
       "    .colab-df-buttons div {\n",
       "      margin-bottom: 4px;\n",
       "    }\n",
       "\n",
       "    [theme=dark] .colab-df-convert {\n",
       "      background-color: #3B4455;\n",
       "      fill: #D2E3FC;\n",
       "    }\n",
       "\n",
       "    [theme=dark] .colab-df-convert:hover {\n",
       "      background-color: #434B5C;\n",
       "      box-shadow: 0px 1px 3px 1px rgba(0, 0, 0, 0.15);\n",
       "      filter: drop-shadow(0px 1px 2px rgba(0, 0, 0, 0.3));\n",
       "      fill: #FFFFFF;\n",
       "    }\n",
       "  </style>\n",
       "\n",
       "    <script>\n",
       "      const buttonEl =\n",
       "        document.querySelector('#df-f512f627-b043-4031-879b-577c92574fbc button.colab-df-convert');\n",
       "      buttonEl.style.display =\n",
       "        google.colab.kernel.accessAllowed ? 'block' : 'none';\n",
       "\n",
       "      async function convertToInteractive(key) {\n",
       "        const element = document.querySelector('#df-f512f627-b043-4031-879b-577c92574fbc');\n",
       "        const dataTable =\n",
       "          await google.colab.kernel.invokeFunction('convertToInteractive',\n",
       "                                                    [key], {});\n",
       "        if (!dataTable) return;\n",
       "\n",
       "        const docLinkHtml = 'Like what you see? Visit the ' +\n",
       "          '<a target=\"_blank\" href=https://colab.research.google.com/notebooks/data_table.ipynb>data table notebook</a>'\n",
       "          + ' to learn more about interactive tables.';\n",
       "        element.innerHTML = '';\n",
       "        dataTable['output_type'] = 'display_data';\n",
       "        await google.colab.output.renderOutput(dataTable, element);\n",
       "        const docLink = document.createElement('div');\n",
       "        docLink.innerHTML = docLinkHtml;\n",
       "        element.appendChild(docLink);\n",
       "      }\n",
       "    </script>\n",
       "  </div>\n",
       "\n",
       "\n",
       "<div id=\"df-bddd9b46-52cd-4465-8fea-d4b7e2c1302a\">\n",
       "  <button class=\"colab-df-quickchart\" onclick=\"quickchart('df-bddd9b46-52cd-4465-8fea-d4b7e2c1302a')\"\n",
       "            title=\"Suggest charts\"\n",
       "            style=\"display:none;\">\n",
       "\n",
       "<svg xmlns=\"http://www.w3.org/2000/svg\" height=\"24px\"viewBox=\"0 0 24 24\"\n",
       "     width=\"24px\">\n",
       "    <g>\n",
       "        <path d=\"M19 3H5c-1.1 0-2 .9-2 2v14c0 1.1.9 2 2 2h14c1.1 0 2-.9 2-2V5c0-1.1-.9-2-2-2zM9 17H7v-7h2v7zm4 0h-2V7h2v10zm4 0h-2v-4h2v4z\"/>\n",
       "    </g>\n",
       "</svg>\n",
       "  </button>\n",
       "\n",
       "<style>\n",
       "  .colab-df-quickchart {\n",
       "      --bg-color: #E8F0FE;\n",
       "      --fill-color: #1967D2;\n",
       "      --hover-bg-color: #E2EBFA;\n",
       "      --hover-fill-color: #174EA6;\n",
       "      --disabled-fill-color: #AAA;\n",
       "      --disabled-bg-color: #DDD;\n",
       "  }\n",
       "\n",
       "  [theme=dark] .colab-df-quickchart {\n",
       "      --bg-color: #3B4455;\n",
       "      --fill-color: #D2E3FC;\n",
       "      --hover-bg-color: #434B5C;\n",
       "      --hover-fill-color: #FFFFFF;\n",
       "      --disabled-bg-color: #3B4455;\n",
       "      --disabled-fill-color: #666;\n",
       "  }\n",
       "\n",
       "  .colab-df-quickchart {\n",
       "    background-color: var(--bg-color);\n",
       "    border: none;\n",
       "    border-radius: 50%;\n",
       "    cursor: pointer;\n",
       "    display: none;\n",
       "    fill: var(--fill-color);\n",
       "    height: 32px;\n",
       "    padding: 0;\n",
       "    width: 32px;\n",
       "  }\n",
       "\n",
       "  .colab-df-quickchart:hover {\n",
       "    background-color: var(--hover-bg-color);\n",
       "    box-shadow: 0 1px 2px rgba(60, 64, 67, 0.3), 0 1px 3px 1px rgba(60, 64, 67, 0.15);\n",
       "    fill: var(--button-hover-fill-color);\n",
       "  }\n",
       "\n",
       "  .colab-df-quickchart-complete:disabled,\n",
       "  .colab-df-quickchart-complete:disabled:hover {\n",
       "    background-color: var(--disabled-bg-color);\n",
       "    fill: var(--disabled-fill-color);\n",
       "    box-shadow: none;\n",
       "  }\n",
       "\n",
       "  .colab-df-spinner {\n",
       "    border: 2px solid var(--fill-color);\n",
       "    border-color: transparent;\n",
       "    border-bottom-color: var(--fill-color);\n",
       "    animation:\n",
       "      spin 1s steps(1) infinite;\n",
       "  }\n",
       "\n",
       "  @keyframes spin {\n",
       "    0% {\n",
       "      border-color: transparent;\n",
       "      border-bottom-color: var(--fill-color);\n",
       "      border-left-color: var(--fill-color);\n",
       "    }\n",
       "    20% {\n",
       "      border-color: transparent;\n",
       "      border-left-color: var(--fill-color);\n",
       "      border-top-color: var(--fill-color);\n",
       "    }\n",
       "    30% {\n",
       "      border-color: transparent;\n",
       "      border-left-color: var(--fill-color);\n",
       "      border-top-color: var(--fill-color);\n",
       "      border-right-color: var(--fill-color);\n",
       "    }\n",
       "    40% {\n",
       "      border-color: transparent;\n",
       "      border-right-color: var(--fill-color);\n",
       "      border-top-color: var(--fill-color);\n",
       "    }\n",
       "    60% {\n",
       "      border-color: transparent;\n",
       "      border-right-color: var(--fill-color);\n",
       "    }\n",
       "    80% {\n",
       "      border-color: transparent;\n",
       "      border-right-color: var(--fill-color);\n",
       "      border-bottom-color: var(--fill-color);\n",
       "    }\n",
       "    90% {\n",
       "      border-color: transparent;\n",
       "      border-bottom-color: var(--fill-color);\n",
       "    }\n",
       "  }\n",
       "</style>\n",
       "\n",
       "  <script>\n",
       "    async function quickchart(key) {\n",
       "      const quickchartButtonEl =\n",
       "        document.querySelector('#' + key + ' button');\n",
       "      quickchartButtonEl.disabled = true;  // To prevent multiple clicks.\n",
       "      quickchartButtonEl.classList.add('colab-df-spinner');\n",
       "      try {\n",
       "        const charts = await google.colab.kernel.invokeFunction(\n",
       "            'suggestCharts', [key], {});\n",
       "      } catch (error) {\n",
       "        console.error('Error during call to suggestCharts:', error);\n",
       "      }\n",
       "      quickchartButtonEl.classList.remove('colab-df-spinner');\n",
       "      quickchartButtonEl.classList.add('colab-df-quickchart-complete');\n",
       "    }\n",
       "    (() => {\n",
       "      let quickchartButtonEl =\n",
       "        document.querySelector('#df-bddd9b46-52cd-4465-8fea-d4b7e2c1302a button');\n",
       "      quickchartButtonEl.style.display =\n",
       "        google.colab.kernel.accessAllowed ? 'block' : 'none';\n",
       "    })();\n",
       "  </script>\n",
       "</div>\n",
       "    </div>\n",
       "  </div>\n"
      ],
      "text/plain": [
       "          airline                                               text  \\\n",
       "0  Virgin America                @VirginAmerica What @dhepburn said.   \n",
       "1  Virgin America  @VirginAmerica plus you've added commercials t...   \n",
       "2  Virgin America  @VirginAmerica I didn't today... Must mean I n...   \n",
       "3  Virgin America  @VirginAmerica it's really aggressive to blast...   \n",
       "4  Virgin America  @VirginAmerica and it's a really big bad thing...   \n",
       "\n",
       "  airline_sentiment  airline_sentiment_confidence  \n",
       "0           neutral                        1.0000  \n",
       "1          positive                        0.3486  \n",
       "2           neutral                        0.6837  \n",
       "3          negative                        1.0000  \n",
       "4          negative                        1.0000  "
      ]
     },
     "execution_count": 86,
     "metadata": {},
     "output_type": "execute_result"
    }
   ],
   "source": [
    "# keycols =['airline','text', 'tweet_id', 'airline_sentiment']\n",
    "keycols =['airline','text', 'airline_sentiment', 'airline_sentiment_confidence']\n",
    "df[keycols].head(5)"
   ]
  },
  {
   "cell_type": "markdown",
   "metadata": {
    "id": "Ip3LfQg9DoN6"
   },
   "source": [
    "### S1A : Visualize Data"
   ]
  },
  {
   "cell_type": "markdown",
   "metadata": {
    "id": "YDui4cB1KGEy"
   },
   "source": [
    "#### Distribution of Sentiments across Airlines"
   ]
  },
  {
   "cell_type": "code",
   "execution_count": 87,
   "metadata": {
    "colab": {
     "base_uri": "https://localhost:8080/",
     "height": 467
    },
    "executionInfo": {
     "elapsed": 1394,
     "status": "ok",
     "timestamp": 1700506153714,
     "user": {
      "displayName": "Balaji Thiruvenkatachari",
      "userId": "09199609969781368622"
     },
     "user_tz": -330
    },
    "id": "hA3q3EQlDhGf",
    "outputId": "7aedd1d7-eaaa-4da5-f936-4bf4da3038c3"
   },
   "outputs": [
    {
     "data": {
      "text/plain": [
       "<Axes: xlabel='airline_sentiment', ylabel='count'>"
      ]
     },
     "execution_count": 87,
     "metadata": {},
     "output_type": "execute_result"
    },
    {
     "data": {
      "image/png": "[encoded data removed]",
      "text/plain": [
       "<Figure size 640x480 with 1 Axes>"
      ]
     },
     "metadata": {},
     "output_type": "display_data"
    }
   ],
   "source": [
    "sns.countplot(x = \"airline_sentiment\", data = df, palette='BuGn')  # Mostly Negative Sentitments"
   ]
  },
  {
   "cell_type": "markdown",
   "metadata": {
    "id": "skdfzqg7KMOY"
   },
   "source": [
    "#### Distribution of Sentiments By Airlines"
   ]
  },
  {
   "cell_type": "code",
   "execution_count": 7,
   "metadata": {
    "colab": {
     "base_uri": "https://localhost:8080/",
     "height": 1000
    },
    "executionInfo": {
     "elapsed": 2690,
     "status": "ok",
     "timestamp": 1700503857033,
     "user": {
      "displayName": "Balaji Thiruvenkatachari",
      "userId": "09199609969781368622"
     },
     "user_tz": -330
    },
    "id": "hXMTifzEGkFJ",
    "outputId": "d9f1828f-b890-4e62-bc8a-643b2804bfa2"
   },
   "outputs": [
    {
     "data": {
      "image/png": "[encoded data removed]",
      "text/plain": [
       "<Figure size 1061.11x1000 with 6 Axes>"
      ]
     },
     "metadata": {},
     "output_type": "display_data"
    }
   ],
   "source": [
    "g = sns.FacetGrid(df, col='airline', col_wrap=3, height=5, aspect=0.7)\n",
    "g = g.map(sns.countplot, \"airline_sentiment\",order =df.airline_sentiment.value_counts().index, palette='BuGn').add_legend()  # Accent\n",
    "plt.show()\n",
    "\n",
    "# Observations 1 : Airlines with most Negative Reviews - United, US_Airways, America, Southwest\n",
    "# Observations 2 : Airlines with least Negative Reviews - Virgin America, Delta"
   ]
  },
  {
   "cell_type": "markdown",
   "metadata": {
    "id": "kf88BUKNKQjP"
   },
   "source": [
    "#### Top Reasons for Negative Sentiments"
   ]
  },
  {
   "cell_type": "code",
   "execution_count": 8,
   "metadata": {
    "executionInfo": {
     "elapsed": 23,
     "status": "ok",
     "timestamp": 1700503857033,
     "user": {
      "displayName": "Balaji Thiruvenkatachari",
      "userId": "09199609969781368622"
     },
     "user_tz": -330
    },
    "id": "B7Ass2vSJaGy"
   },
   "outputs": [],
   "source": [
    "y = df['negativereason'].value_counts()"
   ]
  },
  {
   "cell_type": "code",
   "execution_count": 62,
   "metadata": {
    "colab": {
     "base_uri": "https://localhost:8080/",
     "height": 446
    },
    "executionInfo": {
     "elapsed": 1347,
     "status": "ok",
     "timestamp": 1700505766303,
     "user": {
      "displayName": "Balaji Thiruvenkatachari",
      "userId": "09199609969781368622"
     },
     "user_tz": -330
    },
    "id": "p9yBOvyqJlMJ",
    "outputId": "9965623b-27b8-4965-ba61-ec1fd33d27e0"
   },
   "outputs": [
    {
     "data": {
      "text/plain": [
       "<Axes: xlabel='negativereason', ylabel='count'>"
      ]
     },
     "execution_count": 62,
     "metadata": {},
     "output_type": "execute_result"
    },
    {
     "data": {
      "image/png": "[encoded data removed]",
      "text/plain": [
       "<Figure size 3000x700 with 1 Axes>"
      ]
     },
     "metadata": {},
     "output_type": "display_data"
    }
   ],
   "source": [
    "plt.figure(figsize=(30,7))\n",
    "sns.countplot(x = \"negativereason\", data = df, palette='BuGn')  # Mostly Negative Sentitments"
   ]
  },
  {
   "cell_type": "markdown",
   "metadata": {
    "id": "koEQFIhFD6Lr"
   },
   "source": [
    "### S1B : Data Preparation and Cleanup"
   ]
  },
  {
   "cell_type": "markdown",
   "metadata": {
    "id": "jFmCR_ZeF9yv"
   },
   "source": [
    "#### Check for Duplicates and drop duplicate values"
   ]
  },
  {
   "cell_type": "code",
   "execution_count": 88,
   "metadata": {
    "colab": {
     "base_uri": "https://localhost:8080/",
     "height": 0
    },
    "executionInfo": {
     "elapsed": 10,
     "status": "ok",
     "timestamp": 1700506161497,
     "user": {
      "displayName": "Balaji Thiruvenkatachari",
      "userId": "09199609969781368622"
     },
     "user_tz": -330
    },
    "id": "HMBWDCfYEj5S",
    "outputId": "15c4f160-1468-436b-df56-b63160911d29"
   },
   "outputs": [
    {
     "name": "stdout",
     "output_type": "stream",
     "text": [
      "Count of Duplicate Rows : (36, 15)\n",
      "\n",
      "        airline                                               text  \\\n",
      "12040  American  @AmericanAir why would I even consider continu...   \n",
      "12059  American  @AmericanAir my flight got Cancelled Flightled...   \n",
      "12063  American  .@AmericanAir just disappointed with the Fligh...   \n",
      "12066  American                                 @AmericanAir I did   \n",
      "12068  American  @AmericanAir r u serious?? 304min #delay with ...   \n",
      "\n",
      "      airline_sentiment  airline_sentiment_confidence  \n",
      "12040          negative                           1.0  \n",
      "12059           neutral                           1.0  \n",
      "12063           neutral                           1.0  \n",
      "12066           neutral                           1.0  \n",
      "12068          negative                           1.0  \n"
     ]
    }
   ],
   "source": [
    "df_duplicates = df[df.duplicated()]\n",
    "print(f\"Count of Duplicate Rows : {df_duplicates.shape}\\n\")\n",
    "print(df_duplicates[keycols].head(5))\n",
    "\n",
    "df.drop_duplicates(keep=False,inplace=True)"
   ]
  },
  {
   "cell_type": "markdown",
   "metadata": {
    "id": "ug0VzJa8KjC5"
   },
   "source": [
    "#### Drop Columns that are not relevant like Tweet Id etc."
   ]
  },
  {
   "cell_type": "code",
   "execution_count": 90,
   "metadata": {
    "executionInfo": {
     "elapsed": 3,
     "status": "ok",
     "timestamp": 1700506180910,
     "user": {
      "displayName": "Balaji Thiruvenkatachari",
      "userId": "09199609969781368622"
     },
     "user_tz": -330
    },
    "id": "EteK4qFXD9M1"
   },
   "outputs": [],
   "source": [
    "# Note we do keep a dataframe with full dataset in case required later.\n",
    "\n",
    "cols_not_of_use_in_modeling = ['tweet_id', 'airline_sentiment_confidence', 'negativereason', 'negativereason_confidence', 'airline','airline_sentiment_gold', 'name', 'negativereason_gold', 'retweet_count', 'tweet_coord', 'tweet_created','tweet_location', 'user_timezone']\n",
    "df = df.drop(cols_not_of_use_in_modeling, axis = 1)"
   ]
  },
  {
   "cell_type": "code",
   "execution_count": 91,
   "metadata": {
    "colab": {
     "base_uri": "https://localhost:8080/",
     "height": 0
    },
    "executionInfo": {
     "elapsed": 10,
     "status": "ok",
     "timestamp": 1700506182206,
     "user": {
      "displayName": "Balaji Thiruvenkatachari",
      "userId": "09199609969781368622"
     },
     "user_tz": -330
    },
    "id": "HBV1dzBLKn5D",
    "outputId": "04f83b27-0479-4335-bf88-7dab64b63c02"
   },
   "outputs": [
    {
     "data": {
      "text/plain": [
       "(14568, 2)"
      ]
     },
     "execution_count": 91,
     "metadata": {},
     "output_type": "execute_result"
    }
   ],
   "source": [
    "df.shape"
   ]
  },
  {
   "cell_type": "markdown",
   "metadata": {
    "id": "YhSqFqb2-4i3"
   },
   "source": [
    "### Tweets Deep Cleanup is important\n",
    "Cleaning up is important in Twitter data since users include lot of characters or symbols etc..example Emojis, Symbols like # or @ etc."
   ]
  },
  {
   "cell_type": "code",
   "execution_count": 67,
   "metadata": {
    "executionInfo": {
     "elapsed": 616,
     "status": "ok",
     "timestamp": 1700505799182,
     "user": {
      "displayName": "Balaji Thiruvenkatachari",
      "userId": "09199609969781368622"
     },
     "user_tz": -330
    },
    "id": "X9lIGs4h_VCV"
   },
   "outputs": [],
   "source": [
    "def fn_strip_emoji(text):\n",
    "    return re.sub(emoji.get_emoji_regexp(), r\"\", text) #remove emoji"
   ]
  },
  {
   "cell_type": "markdown",
   "metadata": {
    "id": "Ij2PY1vI_lER"
   },
   "source": [
    "#### Function to Remove punctuations, links, mentions"
   ]
  },
  {
   "cell_type": "code",
   "execution_count": 13,
   "metadata": {
    "colab": {
     "base_uri": "https://localhost:8080/",
     "height": 0
    },
    "executionInfo": {
     "elapsed": 9,
     "status": "ok",
     "timestamp": 1700503977526,
     "user": {
      "displayName": "Balaji Thiruvenkatachari",
      "userId": "09199609969781368622"
     },
     "user_tz": -330
    },
    "id": "QgbpKy9dNctD",
    "outputId": "58c2f8e6-c7e0-4d37-b469-133f9a91dd96"
   },
   "outputs": [
    {
     "data": {
      "text/plain": [
       "[' Sample Tweet ']"
      ]
     },
     "execution_count": 13,
     "metadata": {},
     "output_type": "execute_result"
    }
   ],
   "source": [
    "# OPTIONAL TEST CODE TO ILLUSTRATE WORKING OF REGULAR EXPRESSION\n",
    "\n",
    "# Note: We use Regular Expression to Process certain pattenrs like @ symbol\n",
    "# This step is optional and included for elaboration\n",
    "tags = r\"@\\w*\"\n",
    "sentence = \"@VirginAmerica Sample@T Tweet @test\"\n",
    "sentence = [re.sub(tags, \"\", sentence)]\n",
    "sentence"
   ]
  },
  {
   "cell_type": "code",
   "execution_count": 98,
   "metadata": {
    "executionInfo": {
     "elapsed": 3,
     "status": "ok",
     "timestamp": 1700506365428,
     "user": {
      "displayName": "Balaji Thiruvenkatachari",
      "userId": "09199609969781368622"
     },
     "user_tz": -330
    },
    "id": "NlKA9UtZ_fBe"
   },
   "outputs": [],
   "source": [
    "#Remove punctuations, links, mentions and \\r\\n new line characters\n",
    "def fn_strip_all_entities(text):\n",
    "    text = text.replace('\\r', '').replace('\\n', ' ').replace('\\n', ' ').lower() #remove \\n and \\r and lowercase\n",
    "\n",
    "    # Note: We use Regular Expression to Process certain pattenrs like @ symbol\n",
    "    # This step is optional and included for elaboration\n",
    "\n",
    "    text = re.sub(r\"(?:\\@|https?\\://)\\S+\", \"\", text) #remove links and mentions\n",
    "    text = re.sub(r'[^\\x00-\\x7f]',r'', text) #remove non utf8/ascii characters such as '\\x9a\\x91\\x97\\x9a\\x97'\n",
    "    banned_list= string.punctuation + 'Ã'+'±'+'ã'+'¼'+'â'+'»'+'§'\n",
    "    table = str.maketrans('', '', banned_list)\n",
    "    text = text.translate(table)\n",
    "    return text"
   ]
  },
  {
   "cell_type": "markdown",
   "metadata": {
    "id": "XBLMdCP0_opM"
   },
   "source": [
    "#### Function to Clean Hashtags\n",
    "Clean hastags at the end of the sentence, and keep those in the middle of the sentence by removing just the # symbol\n"
   ]
  },
  {
   "cell_type": "code",
   "execution_count": 69,
   "metadata": {
    "executionInfo": {
     "elapsed": 362,
     "status": "ok",
     "timestamp": 1700505803339,
     "user": {
      "displayName": "Balaji Thiruvenkatachari",
      "userId": "09199609969781368622"
     },
     "user_tz": -330
    },
    "id": "g-qSLVEZ_ikr"
   },
   "outputs": [],
   "source": [
    "#clean hashtags at the end of the sentence, and keep those in the middle of the sentence by removing just the # symbol\n",
    "def fn_clean_hashtags(tweet):\n",
    "    new_tweet = \" \".join(word.strip() for word in re.split('#(?!(?:hashtag)\\b)[\\w-]+(?=(?:\\s+#[\\w-]+)*\\s*$)', tweet)) #remove last hashtags\n",
    "    new_tweet2 = \" \".join(word.strip() for word in re.split('#|_', new_tweet)) #remove hashtags symbol from words in the middle of the sentence\n",
    "    return new_tweet2"
   ]
  },
  {
   "cell_type": "markdown",
   "metadata": {
    "id": "EtGxksb0_1z5"
   },
   "source": [
    "#### Function to Filter special characters\n",
    "Filter special characters such as & and $ present in some words"
   ]
  },
  {
   "cell_type": "code",
   "execution_count": 70,
   "metadata": {
    "executionInfo": {
     "elapsed": 3,
     "status": "ok",
     "timestamp": 1700505804894,
     "user": {
      "displayName": "Balaji Thiruvenkatachari",
      "userId": "09199609969781368622"
     },
     "user_tz": -330
    },
    "id": "Y1nUWY5k_2Rv"
   },
   "outputs": [],
   "source": [
    "#Filter special characters such as & and $ present in some words\n",
    "def fn_filter_chars(a):\n",
    "    sent = []\n",
    "    for word in a.split(' '):\n",
    "        if ('$' in word) | ('&' in word):\n",
    "            sent.append('')\n",
    "        else:\n",
    "            sent.append(word)\n",
    "    return ' '.join(sent)"
   ]
  },
  {
   "cell_type": "markdown",
   "metadata": {
    "id": "CsfbAfJRAFEP"
   },
   "source": [
    "#### Function to Remove multiple spaces"
   ]
  },
  {
   "cell_type": "code",
   "execution_count": 71,
   "metadata": {
    "executionInfo": {
     "elapsed": 2,
     "status": "ok",
     "timestamp": 1700505806497,
     "user": {
      "displayName": "Balaji Thiruvenkatachari",
      "userId": "09199609969781368622"
     },
     "user_tz": -330
    },
    "id": "uYfzAndfAIpk"
   },
   "outputs": [],
   "source": [
    "def fn_remove_mult_spaces(text): # remove multiple spaces\n",
    "    return re.sub(\"\\s\\s+\" , \" \", text)"
   ]
  },
  {
   "cell_type": "markdown",
   "metadata": {
    "id": "KwruygrzAanD"
   },
   "source": [
    "#### Perform all the cleanup"
   ]
  },
  {
   "cell_type": "code",
   "execution_count": 92,
   "metadata": {
    "executionInfo": {
     "elapsed": 3,
     "status": "ok",
     "timestamp": 1700506222702,
     "user": {
      "displayName": "Balaji Thiruvenkatachari",
      "userId": "09199609969781368622"
     },
     "user_tz": -330
    },
    "id": "0AO_vl9MEWZz"
   },
   "outputs": [],
   "source": [
    "df['text_original'] = df['text']"
   ]
  },
  {
   "cell_type": "code",
   "execution_count": null,
   "metadata": {
    "id": "PfaM9z-zEckH"
   },
   "outputs": [],
   "source": [
    "df.head(5)"
   ]
  },
  {
   "cell_type": "code",
   "execution_count": 94,
   "metadata": {
    "executionInfo": {
     "elapsed": 533,
     "status": "ok",
     "timestamp": 1700506286428,
     "user": {
      "displayName": "Balaji Thiruvenkatachari",
      "userId": "09199609969781368622"
     },
     "user_tz": -330
    },
    "id": "Sp-q9NguAY6b"
   },
   "outputs": [],
   "source": [
    "texts_new = []\n",
    "for t in df.text:\n",
    "    texts_new.append(fn_remove_mult_spaces(fn_filter_chars(fn_clean_hashtags(fn_strip_all_entities(t)))))\n",
    "\n",
    "df['text'] = texts_new        # Store the cleaned up text in the text column."
   ]
  },
  {
   "cell_type": "code",
   "execution_count": 95,
   "metadata": {
    "colab": {
     "base_uri": "https://localhost:8080/",
     "height": 206
    },
    "executionInfo": {
     "elapsed": 415,
     "status": "ok",
     "timestamp": 1700506296355,
     "user": {
      "displayName": "Balaji Thiruvenkatachari",
      "userId": "09199609969781368622"
     },
     "user_tz": -330
    },
    "id": "nmGmqsvtDq4F",
    "outputId": "ac9c50de-2d2e-4ca1-a0f4-7e2cdd3e0639"
   },
   "outputs": [
    {
     "data": {
      "text/html": [
       "\n",
       "  <div id=\"df-f4389772-14de-4865-8e0c-de46f5785975\" class=\"colab-df-container\">\n",
       "    <div>\n",
       "<style scoped>\n",
       "    .dataframe tbody tr th:only-of-type {\n",
       "        vertical-align: middle;\n",
       "    }\n",
       "\n",
       "    .dataframe tbody tr th {\n",
       "        vertical-align: top;\n",
       "    }\n",
       "\n",
       "    .dataframe thead th {\n",
       "        text-align: right;\n",
       "    }\n",
       "</style>\n",
       "<table border=\"1\" class=\"dataframe\">\n",
       "  <thead>\n",
       "    <tr style=\"text-align: right;\">\n",
       "      <th></th>\n",
       "      <th>airline_sentiment</th>\n",
       "      <th>text</th>\n",
       "      <th>text_original</th>\n",
       "    </tr>\n",
       "  </thead>\n",
       "  <tbody>\n",
       "    <tr>\n",
       "      <th>0</th>\n",
       "      <td>neutral</td>\n",
       "      <td>what said</td>\n",
       "      <td>@VirginAmerica What @dhepburn said.</td>\n",
       "    </tr>\n",
       "    <tr>\n",
       "      <th>1</th>\n",
       "      <td>positive</td>\n",
       "      <td>plus youve added commercials to the experience...</td>\n",
       "      <td>@VirginAmerica plus you've added commercials t...</td>\n",
       "    </tr>\n",
       "    <tr>\n",
       "      <th>2</th>\n",
       "      <td>neutral</td>\n",
       "      <td>i didnt today must mean i need to take another...</td>\n",
       "      <td>@VirginAmerica I didn't today... Must mean I n...</td>\n",
       "    </tr>\n",
       "    <tr>\n",
       "      <th>3</th>\n",
       "      <td>negative</td>\n",
       "      <td>its really aggressive to blast obnoxious enter...</td>\n",
       "      <td>@VirginAmerica it's really aggressive to blast...</td>\n",
       "    </tr>\n",
       "    <tr>\n",
       "      <th>4</th>\n",
       "      <td>negative</td>\n",
       "      <td>and its a really big bad thing about it</td>\n",
       "      <td>@VirginAmerica and it's a really big bad thing...</td>\n",
       "    </tr>\n",
       "  </tbody>\n",
       "</table>\n",
       "</div>\n",
       "    <div class=\"colab-df-buttons\">\n",
       "\n",
       "  <div class=\"colab-df-container\">\n",
       "    <button class=\"colab-df-convert\" onclick=\"convertToInteractive('df-f4389772-14de-4865-8e0c-de46f5785975')\"\n",
       "            title=\"Convert this dataframe to an interactive table.\"\n",
       "            style=\"display:none;\">\n",
       "\n",
       "  <svg xmlns=\"http://www.w3.org/2000/svg\" height=\"24px\" viewBox=\"0 -960 960 960\">\n",
       "    <path d=\"M120-120v-720h720v720H120Zm60-500h600v-160H180v160Zm220 220h160v-160H400v160Zm0 220h160v-160H400v160ZM180-400h160v-160H180v160Zm440 0h160v-160H620v160ZM180-180h160v-160H180v160Zm440 0h160v-160H620v160Z\"/>\n",
       "  </svg>\n",
       "    </button>\n",
       "\n",
       "  <style>\n",
       "    .colab-df-container {\n",
       "      display:flex;\n",
       "      gap: 12px;\n",
       "    }\n",
       "\n",
       "    .colab-df-convert {\n",
       "      background-color: #E8F0FE;\n",
       "      border: none;\n",
       "      border-radius: 50%;\n",
       "      cursor: pointer;\n",
       "      display: none;\n",
       "      fill: #1967D2;\n",
       "      height: 32px;\n",
       "      padding: 0 0 0 0;\n",
       "      width: 32px;\n",
       "    }\n",
       "\n",
       "    .colab-df-convert:hover {\n",
       "      background-color: #E2EBFA;\n",
       "      box-shadow: 0px 1px 2px rgba(60, 64, 67, 0.3), 0px 1px 3px 1px rgba(60, 64, 67, 0.15);\n",
       "      fill: #174EA6;\n",
       "    }\n",
       "\n",
       "    .colab-df-buttons div {\n",
       "      margin-bottom: 4px;\n",
       "    }\n",
       "\n",
       "    [theme=dark] .colab-df-convert {\n",
       "      background-color: #3B4455;\n",
       "      fill: #D2E3FC;\n",
       "    }\n",
       "\n",
       "    [theme=dark] .colab-df-convert:hover {\n",
       "      background-color: #434B5C;\n",
       "      box-shadow: 0px 1px 3px 1px rgba(0, 0, 0, 0.15);\n",
       "      filter: drop-shadow(0px 1px 2px rgba(0, 0, 0, 0.3));\n",
       "      fill: #FFFFFF;\n",
       "    }\n",
       "  </style>\n",
       "\n",
       "    <script>\n",
       "      const buttonEl =\n",
       "        document.querySelector('#df-f4389772-14de-4865-8e0c-de46f5785975 button.colab-df-convert');\n",
       "      buttonEl.style.display =\n",
       "        google.colab.kernel.accessAllowed ? 'block' : 'none';\n",
       "\n",
       "      async function convertToInteractive(key) {\n",
       "        const element = document.querySelector('#df-f4389772-14de-4865-8e0c-de46f5785975');\n",
       "        const dataTable =\n",
       "          await google.colab.kernel.invokeFunction('convertToInteractive',\n",
       "                                                    [key], {});\n",
       "        if (!dataTable) return;\n",
       "\n",
       "        const docLinkHtml = 'Like what you see? Visit the ' +\n",
       "          '<a target=\"_blank\" href=https://colab.research.google.com/notebooks/data_table.ipynb>data table notebook</a>'\n",
       "          + ' to learn more about interactive tables.';\n",
       "        element.innerHTML = '';\n",
       "        dataTable['output_type'] = 'display_data';\n",
       "        await google.colab.output.renderOutput(dataTable, element);\n",
       "        const docLink = document.createElement('div');\n",
       "        docLink.innerHTML = docLinkHtml;\n",
       "        element.appendChild(docLink);\n",
       "      }\n",
       "    </script>\n",
       "  </div>\n",
       "\n",
       "\n",
       "<div id=\"df-a51b45b9-75ef-492b-b8e8-791611f98e9d\">\n",
       "  <button class=\"colab-df-quickchart\" onclick=\"quickchart('df-a51b45b9-75ef-492b-b8e8-791611f98e9d')\"\n",
       "            title=\"Suggest charts\"\n",
       "            style=\"display:none;\">\n",
       "\n",
       "<svg xmlns=\"http://www.w3.org/2000/svg\" height=\"24px\"viewBox=\"0 0 24 24\"\n",
       "     width=\"24px\">\n",
       "    <g>\n",
       "        <path d=\"M19 3H5c-1.1 0-2 .9-2 2v14c0 1.1.9 2 2 2h14c1.1 0 2-.9 2-2V5c0-1.1-.9-2-2-2zM9 17H7v-7h2v7zm4 0h-2V7h2v10zm4 0h-2v-4h2v4z\"/>\n",
       "    </g>\n",
       "</svg>\n",
       "  </button>\n",
       "\n",
       "<style>\n",
       "  .colab-df-quickchart {\n",
       "      --bg-color: #E8F0FE;\n",
       "      --fill-color: #1967D2;\n",
       "      --hover-bg-color: #E2EBFA;\n",
       "      --hover-fill-color: #174EA6;\n",
       "      --disabled-fill-color: #AAA;\n",
       "      --disabled-bg-color: #DDD;\n",
       "  }\n",
       "\n",
       "  [theme=dark] .colab-df-quickchart {\n",
       "      --bg-color: #3B4455;\n",
       "      --fill-color: #D2E3FC;\n",
       "      --hover-bg-color: #434B5C;\n",
       "      --hover-fill-color: #FFFFFF;\n",
       "      --disabled-bg-color: #3B4455;\n",
       "      --disabled-fill-color: #666;\n",
       "  }\n",
       "\n",
       "  .colab-df-quickchart {\n",
       "    background-color: var(--bg-color);\n",
       "    border: none;\n",
       "    border-radius: 50%;\n",
       "    cursor: pointer;\n",
       "    display: none;\n",
       "    fill: var(--fill-color);\n",
       "    height: 32px;\n",
       "    padding: 0;\n",
       "    width: 32px;\n",
       "  }\n",
       "\n",
       "  .colab-df-quickchart:hover {\n",
       "    background-color: var(--hover-bg-color);\n",
       "    box-shadow: 0 1px 2px rgba(60, 64, 67, 0.3), 0 1px 3px 1px rgba(60, 64, 67, 0.15);\n",
       "    fill: var(--button-hover-fill-color);\n",
       "  }\n",
       "\n",
       "  .colab-df-quickchart-complete:disabled,\n",
       "  .colab-df-quickchart-complete:disabled:hover {\n",
       "    background-color: var(--disabled-bg-color);\n",
       "    fill: var(--disabled-fill-color);\n",
       "    box-shadow: none;\n",
       "  }\n",
       "\n",
       "  .colab-df-spinner {\n",
       "    border: 2px solid var(--fill-color);\n",
       "    border-color: transparent;\n",
       "    border-bottom-color: var(--fill-color);\n",
       "    animation:\n",
       "      spin 1s steps(1) infinite;\n",
       "  }\n",
       "\n",
       "  @keyframes spin {\n",
       "    0% {\n",
       "      border-color: transparent;\n",
       "      border-bottom-color: var(--fill-color);\n",
       "      border-left-color: var(--fill-color);\n",
       "    }\n",
       "    20% {\n",
       "      border-color: transparent;\n",
       "      border-left-color: var(--fill-color);\n",
       "      border-top-color: var(--fill-color);\n",
       "    }\n",
       "    30% {\n",
       "      border-color: transparent;\n",
       "      border-left-color: var(--fill-color);\n",
       "      border-top-color: var(--fill-color);\n",
       "      border-right-color: var(--fill-color);\n",
       "    }\n",
       "    40% {\n",
       "      border-color: transparent;\n",
       "      border-right-color: var(--fill-color);\n",
       "      border-top-color: var(--fill-color);\n",
       "    }\n",
       "    60% {\n",
       "      border-color: transparent;\n",
       "      border-right-color: var(--fill-color);\n",
       "    }\n",
       "    80% {\n",
       "      border-color: transparent;\n",
       "      border-right-color: var(--fill-color);\n",
       "      border-bottom-color: var(--fill-color);\n",
       "    }\n",
       "    90% {\n",
       "      border-color: transparent;\n",
       "      border-bottom-color: var(--fill-color);\n",
       "    }\n",
       "  }\n",
       "</style>\n",
       "\n",
       "  <script>\n",
       "    async function quickchart(key) {\n",
       "      const quickchartButtonEl =\n",
       "        document.querySelector('#' + key + ' button');\n",
       "      quickchartButtonEl.disabled = true;  // To prevent multiple clicks.\n",
       "      quickchartButtonEl.classList.add('colab-df-spinner');\n",
       "      try {\n",
       "        const charts = await google.colab.kernel.invokeFunction(\n",
       "            'suggestCharts', [key], {});\n",
       "      } catch (error) {\n",
       "        console.error('Error during call to suggestCharts:', error);\n",
       "      }\n",
       "      quickchartButtonEl.classList.remove('colab-df-spinner');\n",
       "      quickchartButtonEl.classList.add('colab-df-quickchart-complete');\n",
       "    }\n",
       "    (() => {\n",
       "      let quickchartButtonEl =\n",
       "        document.querySelector('#df-a51b45b9-75ef-492b-b8e8-791611f98e9d button');\n",
       "      quickchartButtonEl.style.display =\n",
       "        google.colab.kernel.accessAllowed ? 'block' : 'none';\n",
       "    })();\n",
       "  </script>\n",
       "</div>\n",
       "    </div>\n",
       "  </div>\n"
      ],
      "text/plain": [
       "  airline_sentiment                                               text  \\\n",
       "0           neutral                                          what said   \n",
       "1          positive  plus youve added commercials to the experience...   \n",
       "2           neutral  i didnt today must mean i need to take another...   \n",
       "3          negative  its really aggressive to blast obnoxious enter...   \n",
       "4          negative            and its a really big bad thing about it   \n",
       "\n",
       "                                       text_original  \n",
       "0                @VirginAmerica What @dhepburn said.  \n",
       "1  @VirginAmerica plus you've added commercials t...  \n",
       "2  @VirginAmerica I didn't today... Must mean I n...  \n",
       "3  @VirginAmerica it's really aggressive to blast...  \n",
       "4  @VirginAmerica and it's a really big bad thing...  "
      ]
     },
     "execution_count": 95,
     "metadata": {},
     "output_type": "execute_result"
    }
   ],
   "source": [
    "df.head(5)   # Observer the clean text and original text"
   ]
  },
  {
   "cell_type": "markdown",
   "metadata": {
    "id": "tQW1TGObBcoY"
   },
   "source": [
    "#  S2 : Text Data Representation"
   ]
  },
  {
   "cell_type": "code",
   "execution_count": 96,
   "metadata": {
    "executionInfo": {
     "elapsed": 368,
     "status": "ok",
     "timestamp": 1700506320589,
     "user": {
      "displayName": "Balaji Thiruvenkatachari",
      "userId": "09199609969781368622"
     },
     "user_tz": -330
    },
    "id": "ZQIhy8j9LrZK"
   },
   "outputs": [],
   "source": [
    "def fn_sentiment(x):\n",
    "    if x == 'positive':\n",
    "        return 1\n",
    "    elif x == 'negative':\n",
    "        return -1\n",
    "    else:\n",
    "        return 0"
   ]
  },
  {
   "cell_type": "markdown",
   "metadata": {
    "id": "KjCbcHKfLRdU"
   },
   "source": [
    "### S2A Remove Stop-Words\n",
    "In English words like a, an, in, on, etc. are considered as stop-words. For our sentiment analysis we can remove as they don't have some specific meaning"
   ]
  },
  {
   "cell_type": "code",
   "execution_count": 97,
   "metadata": {
    "colab": {
     "base_uri": "https://localhost:8080/",
     "height": 0
    },
    "executionInfo": {
     "elapsed": 351,
     "status": "ok",
     "timestamp": 1700506331025,
     "user": {
      "displayName": "Balaji Thiruvenkatachari",
      "userId": "09199609969781368622"
     },
     "user_tz": -330
    },
    "id": "nBvDQZP8MKzk",
    "outputId": "029a4492-8f55-4fdf-f30a-7b4c7caec124"
   },
   "outputs": [
    {
     "name": "stdout",
     "output_type": "stream",
     "text": [
      "\n",
      "Example list of Stopwords from NTLK Library ['i', 'me', 'my', 'myself', 'we', 'our', 'ours', 'ourselves', 'you', \"you're\"] \n",
      "\n"
     ]
    },
    {
     "name": "stderr",
     "output_type": "stream",
     "text": [
      "[nltk_data] Downloading package stopwords to /root/nltk_data...\n",
      "[nltk_data]   Package stopwords is already up-to-date!\n"
     ]
    }
   ],
   "source": [
    "from nltk.corpus import stopwords\n",
    "nltk.download('stopwords')\n",
    "\n",
    "STOPWORDS = stopwords.words('english')\n",
    "print(f\"\\nExample list of Stopwords from NTLK Library {STOPWORDS[0:10]} \\n\")"
   ]
  },
  {
   "cell_type": "code",
   "execution_count": 99,
   "metadata": {
    "executionInfo": {
     "elapsed": 376,
     "status": "ok",
     "timestamp": 1700506461471,
     "user": {
      "displayName": "Balaji Thiruvenkatachari",
      "userId": "09199609969781368622"
     },
     "user_tz": -330
    },
    "id": "dlgcYqyyPGio"
   },
   "outputs": [],
   "source": [
    "def fn_remove_stopwords_lowercase(p_sentence):\n",
    "    text = []\n",
    "    for word in p_sentence:\n",
    "        if word not in STOPWORDS:\n",
    "            text.append(word.lower())\n",
    "    return text;"
   ]
  },
  {
   "cell_type": "code",
   "execution_count": 100,
   "metadata": {
    "colab": {
     "base_uri": "https://localhost:8080/",
     "height": 0
    },
    "executionInfo": {
     "elapsed": 375,
     "status": "ok",
     "timestamp": 1700506464502,
     "user": {
      "displayName": "Balaji Thiruvenkatachari",
      "userId": "09199609969781368622"
     },
     "user_tz": -330
    },
    "id": "ETIUZT50PcNX",
    "outputId": "d80047a2-41ea-4ace-af35-484508940ad1"
   },
   "outputs": [
    {
     "name": "stdout",
     "output_type": "stream",
     "text": [
      "Orignal Text : so excited for my first cross country flight lax to mco ive heard nothing but great things about virgin america 29daystogo\n",
      "\n",
      "Preprocessed Text : [' ', 'e', 'x', 'c', 'e', ' ', 'f', 'r', ' ', ' ', 'f', 'r', ' ', 'c', 'r', ' ', 'c', 'u', 'n', 'r', ' ', 'f', 'l', 'g', 'h', ' ', 'l', 'x', ' ', ' ', 'c', ' ', 'v', 'e', ' ', 'h', 'e', 'r', ' ', 'n', 'h', 'n', 'g', ' ', 'b', 'u', ' ', 'g', 'r', 'e', ' ', 'h', 'n', 'g', ' ', 'b', 'u', ' ', 'v', 'r', 'g', 'n', ' ', 'e', 'r', 'c', ' ', '2', '9', 'g']\n"
     ]
    }
   ],
   "source": [
    "ROWNUM = 16\n",
    "print(f\"Orignal Text : {df.text[ROWNUM]}\")\n",
    "print(f\"\\nPreprocessed Text : {fn_remove_stopwords_lowercase(df.text[ROWNUM])}\")"
   ]
  },
  {
   "cell_type": "markdown",
   "metadata": {
    "id": "jND_UHOMOGvd"
   },
   "source": [
    "### S2B Perform Lemmatization (or Stemming)\n",
    "Stemming refers to removing suffixes and reducing a word to its basic form.\n",
    "Example Test and Testing are both reduced to 'Test'.\n",
    "\n",
    "Stemming just removes or stems the last few characters of a word, often leading to incorrect meanings and spelling. Lemmatization considers the context and converts the word to its meaningful base form, which is called Lemma.\n",
    "\n",
    "NOTE: I have include Stemming function for completness. But will be primarily using Lemmatizer as that may be good enough for the Sentiment Analysis example we are learning"
   ]
  },
  {
   "cell_type": "markdown",
   "metadata": {
    "id": "95yaJhOpUWV7"
   },
   "source": [
    "https://stackoverflow.com/questions/17317418/stemmers-vs-lemmatizers"
   ]
  },
  {
   "cell_type": "code",
   "execution_count": 101,
   "metadata": {
    "colab": {
     "base_uri": "https://localhost:8080/",
     "height": 0
    },
    "executionInfo": {
     "elapsed": 368,
     "status": "ok",
     "timestamp": 1700506489903,
     "user": {
      "displayName": "Balaji Thiruvenkatachari",
      "userId": "09199609969781368622"
     },
     "user_tz": -330
    },
    "id": "Fsps8rQNVt4W",
    "outputId": "141fc653-f7f6-4ec2-e725-4963f4ebdc0d"
   },
   "outputs": [
    {
     "name": "stderr",
     "output_type": "stream",
     "text": [
      "[nltk_data] Downloading package wordnet to /root/nltk_data...\n",
      "[nltk_data]   Package wordnet is already up-to-date!\n"
     ]
    }
   ],
   "source": [
    "from nltk.tokenize import word_tokenize\n",
    "from nltk.stem import SnowballStemmer, LancasterStemmer, WordNetLemmatizer\n",
    "from nltk.tokenize import RegexpTokenizer\n",
    "\n",
    "tokenizer = RegexpTokenizer(r'\\w+')\n",
    "stemmer = SnowballStemmer('english')\n",
    "\n",
    "nltk.download('wordnet')\n",
    "from sklearn.feature_extraction.text import CountVectorizer, TfidfVectorizer"
   ]
  },
  {
   "cell_type": "code",
   "execution_count": 102,
   "metadata": {
    "executionInfo": {
     "elapsed": 346,
     "status": "ok",
     "timestamp": 1700506496640,
     "user": {
      "displayName": "Balaji Thiruvenkatachari",
      "userId": "09199609969781368622"
     },
     "user_tz": -330
    },
    "id": "PWNrsfQEQfB-"
   },
   "outputs": [],
   "source": [
    "def fn_Stem(p_sentence):\n",
    "    stemmer = SnowballStemmer('english')\n",
    "    stems = []\n",
    "    print(p_sentence)\n",
    "    for word in p_sentence:\n",
    "        stem = stemmer.stem(word)\n",
    "        stems.append(stem)\n",
    "        print(f\"\\nNext : {word, stems}\")\n",
    "    return stems;"
   ]
  },
  {
   "cell_type": "code",
   "execution_count": null,
   "metadata": {
    "id": "WlprEYovQuro"
   },
   "outputs": [],
   "source": [
    "ROWNUM = 22 # 24\n",
    "print(f\"Orignal Text : {df.text[ROWNUM]}\")\n",
    "sentence_sw = fn_remove_stopwords_lowercase(df.text[ROWNUM])\n",
    "sentence_stemmed = fn_Stem(sentence_sw)"
   ]
  },
  {
   "cell_type": "markdown",
   "metadata": {
    "id": "m0NR7xj-gp3y"
   },
   "source": [
    "### S2B Perform Lemmatization (or Stemming)\n",
    "Stemming refers to removing suffixes and reducing a word to its basic form.\n",
    "Example Test and Testing are both reduced to 'Test'.\n",
    "\n",
    "Stemming just removes or stems the last few characters of a word, often leading to incorrect meanings and spelling. Lemmatization considers the context and converts the word to its meaningful base form, which is called Lemma.\n",
    "\n",
    "NOTE: I have include Stemming function for completness. But will be primarily using Lemmatizer as that may be good enough for the Sentiment Analysis example we are learning"
   ]
  },
  {
   "cell_type": "markdown",
   "metadata": {
    "id": "xwtUUTx-i3bh"
   },
   "source": [
    "## This is the final main function that will be used for Text Data Representation"
   ]
  },
  {
   "cell_type": "code",
   "execution_count": 108,
   "metadata": {
    "executionInfo": {
     "elapsed": 450,
     "status": "ok",
     "timestamp": 1700506558768,
     "user": {
      "displayName": "Balaji Thiruvenkatachari",
      "userId": "09199609969781368622"
     },
     "user_tz": -330
    },
    "id": "ZMDQkNhkMhDR"
   },
   "outputs": [],
   "source": [
    "from nltk.tokenize import RegexpTokenizer\n",
    "tokenizer = RegexpTokenizer(r'\\w+')\n",
    "\n",
    "tags = r\"@\\w*\"         # There are many texts with @ symbol etc...need to remove these as well.\n",
    "def fn_preprocess_text(p_sentence):\n",
    "\n",
    "    p_sentence = [re.sub(tags, \"\", p_sentence)]\n",
    "    text = []\n",
    "    lemmatizer = WordNetLemmatizer()\n",
    "    #stemmer = LancasterStemmer()\n",
    "\n",
    "    # p_sentence_tokens = tokenizer.tokenize(p_sentence)\n",
    "    for word in p_sentence:\n",
    "        if word not in STOPWORDS:\n",
    "           # print(\"\\t WORD NOT STOPWORD\")\n",
    "           lemma = lemmatizer.lemmatize(word, pos='v').lower()\n",
    "           text.append(lemma)\n",
    "    return tokenizer.tokenize(\" \".join(text))"
   ]
  },
  {
   "cell_type": "code",
   "execution_count": 109,
   "metadata": {
    "colab": {
     "base_uri": "https://localhost:8080/",
     "height": 0
    },
    "executionInfo": {
     "elapsed": 7,
     "status": "ok",
     "timestamp": 1700506560284,
     "user": {
      "displayName": "Balaji Thiruvenkatachari",
      "userId": "09199609969781368622"
     },
     "user_tz": -330
    },
    "id": "BlxezRxed5EE",
    "outputId": "920c83d6-ff1e-40ea-a187-8ebcd2c8e7d5"
   },
   "outputs": [
    {
     "name": "stdout",
     "output_type": "stream",
     "text": [
      "['this', 'is', 'a', 'sampling', 'including', 'a', 'sample', 'tweet', 'here', 'caring', 'care', 'car', 'walking', 'walk', 'walked', 'sample', 'tweet']\n"
     ]
    }
   ],
   "source": [
    "SAMPLE = \"@VirginAmerica This is a Sampling. Including a Sample Tweet here. Caring Care Car Walking Walk Walked Sample@T Tweet @test\"\n",
    "print(fn_preprocess_text(SAMPLE))\n",
    "# print(fn_lemmatize_verbs(SAMPLE))"
   ]
  },
  {
   "cell_type": "code",
   "execution_count": 111,
   "metadata": {
    "executionInfo": {
     "elapsed": 3,
     "status": "ok",
     "timestamp": 1700506659970,
     "user": {
      "displayName": "Balaji Thiruvenkatachari",
      "userId": "09199609969781368622"
     },
     "user_tz": -330
    },
    "id": "qhPV5Sm8Fynr"
   },
   "outputs": [],
   "source": [
    "df['text_pre_representation'] = df['text']"
   ]
  },
  {
   "cell_type": "code",
   "execution_count": 112,
   "metadata": {
    "executionInfo": {
     "elapsed": 1035,
     "status": "ok",
     "timestamp": 1700506663872,
     "user": {
      "displayName": "Balaji Thiruvenkatachari",
      "userId": "09199609969781368622"
     },
     "user_tz": -330
    },
    "id": "cHkBYtqfgvPx"
   },
   "outputs": [],
   "source": [
    "df.text = df.text.map(fn_preprocess_text)"
   ]
  },
  {
   "cell_type": "code",
   "execution_count": 118,
   "metadata": {
    "colab": {
     "base_uri": "https://localhost:8080/",
     "height": 206
    },
    "executionInfo": {
     "elapsed": 975,
     "status": "ok",
     "timestamp": 1700506750083,
     "user": {
      "displayName": "Balaji Thiruvenkatachari",
      "userId": "09199609969781368622"
     },
     "user_tz": -330
    },
    "id": "Gdu_SWXokiN6",
    "outputId": "515f536f-fe9e-467a-8504-9b59bf3c50b5"
   },
   "outputs": [
    {
     "data": {
      "text/html": [
       "\n",
       "  <div id=\"df-057a2286-2346-4822-ae46-76142c703b0f\" class=\"colab-df-container\">\n",
       "    <div>\n",
       "<style scoped>\n",
       "    .dataframe tbody tr th:only-of-type {\n",
       "        vertical-align: middle;\n",
       "    }\n",
       "\n",
       "    .dataframe tbody tr th {\n",
       "        vertical-align: top;\n",
       "    }\n",
       "\n",
       "    .dataframe thead th {\n",
       "        text-align: right;\n",
       "    }\n",
       "</style>\n",
       "<table border=\"1\" class=\"dataframe\">\n",
       "  <thead>\n",
       "    <tr style=\"text-align: right;\">\n",
       "      <th></th>\n",
       "      <th>airline_sentiment</th>\n",
       "      <th>text_original</th>\n",
       "      <th>text_pre_representation</th>\n",
       "      <th>text</th>\n",
       "    </tr>\n",
       "  </thead>\n",
       "  <tbody>\n",
       "    <tr>\n",
       "      <th>0</th>\n",
       "      <td>neutral</td>\n",
       "      <td>@VirginAmerica What @dhepburn said.</td>\n",
       "      <td>what said</td>\n",
       "      <td>[what, said]</td>\n",
       "    </tr>\n",
       "    <tr>\n",
       "      <th>1</th>\n",
       "      <td>positive</td>\n",
       "      <td>@VirginAmerica plus you've added commercials t...</td>\n",
       "      <td>plus youve added commercials to the experience...</td>\n",
       "      <td>[plus, youve, added, commercials, to, the, exp...</td>\n",
       "    </tr>\n",
       "    <tr>\n",
       "      <th>2</th>\n",
       "      <td>neutral</td>\n",
       "      <td>@VirginAmerica I didn't today... Must mean I n...</td>\n",
       "      <td>i didnt today must mean i need to take another...</td>\n",
       "      <td>[i, didnt, today, must, mean, i, need, to, tak...</td>\n",
       "    </tr>\n",
       "    <tr>\n",
       "      <th>3</th>\n",
       "      <td>negative</td>\n",
       "      <td>@VirginAmerica it's really aggressive to blast...</td>\n",
       "      <td>its really aggressive to blast obnoxious enter...</td>\n",
       "      <td>[its, really, aggressive, to, blast, obnoxious...</td>\n",
       "    </tr>\n",
       "    <tr>\n",
       "      <th>4</th>\n",
       "      <td>negative</td>\n",
       "      <td>@VirginAmerica and it's a really big bad thing...</td>\n",
       "      <td>and its a really big bad thing about it</td>\n",
       "      <td>[and, its, a, really, big, bad, thing, about, it]</td>\n",
       "    </tr>\n",
       "  </tbody>\n",
       "</table>\n",
       "</div>\n",
       "    <div class=\"colab-df-buttons\">\n",
       "\n",
       "  <div class=\"colab-df-container\">\n",
       "    <button class=\"colab-df-convert\" onclick=\"convertToInteractive('df-057a2286-2346-4822-ae46-76142c703b0f')\"\n",
       "            title=\"Convert this dataframe to an interactive table.\"\n",
       "            style=\"display:none;\">\n",
       "\n",
       "  <svg xmlns=\"http://www.w3.org/2000/svg\" height=\"24px\" viewBox=\"0 -960 960 960\">\n",
       "    <path d=\"M120-120v-720h720v720H120Zm60-500h600v-160H180v160Zm220 220h160v-160H400v160Zm0 220h160v-160H400v160ZM180-400h160v-160H180v160Zm440 0h160v-160H620v160ZM180-180h160v-160H180v160Zm440 0h160v-160H620v160Z\"/>\n",
       "  </svg>\n",
       "    </button>\n",
       "\n",
       "  <style>\n",
       "    .colab-df-container {\n",
       "      display:flex;\n",
       "      gap: 12px;\n",
       "    }\n",
       "\n",
       "    .colab-df-convert {\n",
       "      background-color: #E8F0FE;\n",
       "      border: none;\n",
       "      border-radius: 50%;\n",
       "      cursor: pointer;\n",
       "      display: none;\n",
       "      fill: #1967D2;\n",
       "      height: 32px;\n",
       "      padding: 0 0 0 0;\n",
       "      width: 32px;\n",
       "    }\n",
       "\n",
       "    .colab-df-convert:hover {\n",
       "      background-color: #E2EBFA;\n",
       "      box-shadow: 0px 1px 2px rgba(60, 64, 67, 0.3), 0px 1px 3px 1px rgba(60, 64, 67, 0.15);\n",
       "      fill: #174EA6;\n",
       "    }\n",
       "\n",
       "    .colab-df-buttons div {\n",
       "      margin-bottom: 4px;\n",
       "    }\n",
       "\n",
       "    [theme=dark] .colab-df-convert {\n",
       "      background-color: #3B4455;\n",
       "      fill: #D2E3FC;\n",
       "    }\n",
       "\n",
       "    [theme=dark] .colab-df-convert:hover {\n",
       "      background-color: #434B5C;\n",
       "      box-shadow: 0px 1px 3px 1px rgba(0, 0, 0, 0.15);\n",
       "      filter: drop-shadow(0px 1px 2px rgba(0, 0, 0, 0.3));\n",
       "      fill: #FFFFFF;\n",
       "    }\n",
       "  </style>\n",
       "\n",
       "    <script>\n",
       "      const buttonEl =\n",
       "        document.querySelector('#df-057a2286-2346-4822-ae46-76142c703b0f button.colab-df-convert');\n",
       "      buttonEl.style.display =\n",
       "        google.colab.kernel.accessAllowed ? 'block' : 'none';\n",
       "\n",
       "      async function convertToInteractive(key) {\n",
       "        const element = document.querySelector('#df-057a2286-2346-4822-ae46-76142c703b0f');\n",
       "        const dataTable =\n",
       "          await google.colab.kernel.invokeFunction('convertToInteractive',\n",
       "                                                    [key], {});\n",
       "        if (!dataTable) return;\n",
       "\n",
       "        const docLinkHtml = 'Like what you see? Visit the ' +\n",
       "          '<a target=\"_blank\" href=https://colab.research.google.com/notebooks/data_table.ipynb>data table notebook</a>'\n",
       "          + ' to learn more about interactive tables.';\n",
       "        element.innerHTML = '';\n",
       "        dataTable['output_type'] = 'display_data';\n",
       "        await google.colab.output.renderOutput(dataTable, element);\n",
       "        const docLink = document.createElement('div');\n",
       "        docLink.innerHTML = docLinkHtml;\n",
       "        element.appendChild(docLink);\n",
       "      }\n",
       "    </script>\n",
       "  </div>\n",
       "\n",
       "\n",
       "<div id=\"df-4a198591-fe93-424c-b8b7-d17a714c12d3\">\n",
       "  <button class=\"colab-df-quickchart\" onclick=\"quickchart('df-4a198591-fe93-424c-b8b7-d17a714c12d3')\"\n",
       "            title=\"Suggest charts\"\n",
       "            style=\"display:none;\">\n",
       "\n",
       "<svg xmlns=\"http://www.w3.org/2000/svg\" height=\"24px\"viewBox=\"0 0 24 24\"\n",
       "     width=\"24px\">\n",
       "    <g>\n",
       "        <path d=\"M19 3H5c-1.1 0-2 .9-2 2v14c0 1.1.9 2 2 2h14c1.1 0 2-.9 2-2V5c0-1.1-.9-2-2-2zM9 17H7v-7h2v7zm4 0h-2V7h2v10zm4 0h-2v-4h2v4z\"/>\n",
       "    </g>\n",
       "</svg>\n",
       "  </button>\n",
       "\n",
       "<style>\n",
       "  .colab-df-quickchart {\n",
       "      --bg-color: #E8F0FE;\n",
       "      --fill-color: #1967D2;\n",
       "      --hover-bg-color: #E2EBFA;\n",
       "      --hover-fill-color: #174EA6;\n",
       "      --disabled-fill-color: #AAA;\n",
       "      --disabled-bg-color: #DDD;\n",
       "  }\n",
       "\n",
       "  [theme=dark] .colab-df-quickchart {\n",
       "      --bg-color: #3B4455;\n",
       "      --fill-color: #D2E3FC;\n",
       "      --hover-bg-color: #434B5C;\n",
       "      --hover-fill-color: #FFFFFF;\n",
       "      --disabled-bg-color: #3B4455;\n",
       "      --disabled-fill-color: #666;\n",
       "  }\n",
       "\n",
       "  .colab-df-quickchart {\n",
       "    background-color: var(--bg-color);\n",
       "    border: none;\n",
       "    border-radius: 50%;\n",
       "    cursor: pointer;\n",
       "    display: none;\n",
       "    fill: var(--fill-color);\n",
       "    height: 32px;\n",
       "    padding: 0;\n",
       "    width: 32px;\n",
       "  }\n",
       "\n",
       "  .colab-df-quickchart:hover {\n",
       "    background-color: var(--hover-bg-color);\n",
       "    box-shadow: 0 1px 2px rgba(60, 64, 67, 0.3), 0 1px 3px 1px rgba(60, 64, 67, 0.15);\n",
       "    fill: var(--button-hover-fill-color);\n",
       "  }\n",
       "\n",
       "  .colab-df-quickchart-complete:disabled,\n",
       "  .colab-df-quickchart-complete:disabled:hover {\n",
       "    background-color: var(--disabled-bg-color);\n",
       "    fill: var(--disabled-fill-color);\n",
       "    box-shadow: none;\n",
       "  }\n",
       "\n",
       "  .colab-df-spinner {\n",
       "    border: 2px solid var(--fill-color);\n",
       "    border-color: transparent;\n",
       "    border-bottom-color: var(--fill-color);\n",
       "    animation:\n",
       "      spin 1s steps(1) infinite;\n",
       "  }\n",
       "\n",
       "  @keyframes spin {\n",
       "    0% {\n",
       "      border-color: transparent;\n",
       "      border-bottom-color: var(--fill-color);\n",
       "      border-left-color: var(--fill-color);\n",
       "    }\n",
       "    20% {\n",
       "      border-color: transparent;\n",
       "      border-left-color: var(--fill-color);\n",
       "      border-top-color: var(--fill-color);\n",
       "    }\n",
       "    30% {\n",
       "      border-color: transparent;\n",
       "      border-left-color: var(--fill-color);\n",
       "      border-top-color: var(--fill-color);\n",
       "      border-right-color: var(--fill-color);\n",
       "    }\n",
       "    40% {\n",
       "      border-color: transparent;\n",
       "      border-right-color: var(--fill-color);\n",
       "      border-top-color: var(--fill-color);\n",
       "    }\n",
       "    60% {\n",
       "      border-color: transparent;\n",
       "      border-right-color: var(--fill-color);\n",
       "    }\n",
       "    80% {\n",
       "      border-color: transparent;\n",
       "      border-right-color: var(--fill-color);\n",
       "      border-bottom-color: var(--fill-color);\n",
       "    }\n",
       "    90% {\n",
       "      border-color: transparent;\n",
       "      border-bottom-color: var(--fill-color);\n",
       "    }\n",
       "  }\n",
       "</style>\n",
       "\n",
       "  <script>\n",
       "    async function quickchart(key) {\n",
       "      const quickchartButtonEl =\n",
       "        document.querySelector('#' + key + ' button');\n",
       "      quickchartButtonEl.disabled = true;  // To prevent multiple clicks.\n",
       "      quickchartButtonEl.classList.add('colab-df-spinner');\n",
       "      try {\n",
       "        const charts = await google.colab.kernel.invokeFunction(\n",
       "            'suggestCharts', [key], {});\n",
       "      } catch (error) {\n",
       "        console.error('Error during call to suggestCharts:', error);\n",
       "      }\n",
       "      quickchartButtonEl.classList.remove('colab-df-spinner');\n",
       "      quickchartButtonEl.classList.add('colab-df-quickchart-complete');\n",
       "    }\n",
       "    (() => {\n",
       "      let quickchartButtonEl =\n",
       "        document.querySelector('#df-4a198591-fe93-424c-b8b7-d17a714c12d3 button');\n",
       "      quickchartButtonEl.style.display =\n",
       "        google.colab.kernel.accessAllowed ? 'block' : 'none';\n",
       "    })();\n",
       "  </script>\n",
       "</div>\n",
       "    </div>\n",
       "  </div>\n"
      ],
      "text/plain": [
       "  airline_sentiment                                      text_original  \\\n",
       "0           neutral                @VirginAmerica What @dhepburn said.   \n",
       "1          positive  @VirginAmerica plus you've added commercials t...   \n",
       "2           neutral  @VirginAmerica I didn't today... Must mean I n...   \n",
       "3          negative  @VirginAmerica it's really aggressive to blast...   \n",
       "4          negative  @VirginAmerica and it's a really big bad thing...   \n",
       "\n",
       "                             text_pre_representation  \\\n",
       "0                                          what said   \n",
       "1  plus youve added commercials to the experience...   \n",
       "2  i didnt today must mean i need to take another...   \n",
       "3  its really aggressive to blast obnoxious enter...   \n",
       "4            and its a really big bad thing about it   \n",
       "\n",
       "                                                text  \n",
       "0                                       [what, said]  \n",
       "1  [plus, youve, added, commercials, to, the, exp...  \n",
       "2  [i, didnt, today, must, mean, i, need, to, tak...  \n",
       "3  [its, really, aggressive, to, blast, obnoxious...  \n",
       "4  [and, its, a, really, big, bad, thing, about, it]  "
      ]
     },
     "execution_count": 118,
     "metadata": {},
     "output_type": "execute_result"
    }
   ],
   "source": [
    "# Note 'text' should now have tokens after cleanup, removal of stopwords etc.\n",
    "df[['airline_sentiment', 'text_original', 'text_pre_representation', 'text']].head()"
   ]
  },
  {
   "cell_type": "markdown",
   "metadata": {
    "id": "jVlqdVlokrgX"
   },
   "source": [
    "# S3 Embeddings - SAMPLE TEXT FOR LEARNING\n",
    "For our us to process and build models, we need text to represented in numeric form. There are various techniques to do so."
   ]
  },
  {
   "cell_type": "markdown",
   "metadata": {
    "id": "gPJkT0Jdk2uL"
   },
   "source": [
    "\n",
    "#### S3A One-Hot Encoding\n",
    "In One-Hot Encoding, each word is represented by an Id depending on Vocabulary being used. Let V be the size of the corpus vocabulary, then each word in our input is then represented by a V-dimensional binary vector of 0s and 1s.\n",
    "\n",
    "### Not Implemented due to its disadvantages\n",
    "Note : One-hot encoding is easy understand and implement. However, it has many disadvantages - like each word is given same importance, size is proportional to size of vocabulary, no meaning attached - to name a few.\n",
    "\n"
   ]
  },
  {
   "cell_type": "markdown",
   "metadata": {
    "id": "F5wrMfvTmZDQ"
   },
   "source": [
    "#### S3B Bag of Words (BoW)\n",
    "Popular Technique where main idea is to represent the text under consideration as a bag (collection) of words while ignoring the order and context.\n",
    "\n",
    "BoW also maps words to unique integer IDs between 1 and |V|.\n",
    "Each document in the corpus is further  converted into a vector of |V| dimensions were in the ith component of the vector, i = wid, is simply the number of times the word w occurs in the document."
   ]
  },
  {
   "cell_type": "code",
   "execution_count": 119,
   "metadata": {
    "colab": {
     "base_uri": "https://localhost:8080/",
     "height": 0
    },
    "executionInfo": {
     "elapsed": 545,
     "status": "ok",
     "timestamp": 1700506824586,
     "user": {
      "displayName": "Balaji Thiruvenkatachari",
      "userId": "09199609969781368622"
     },
     "user_tz": -330
    },
    "id": "BpkLxYrrnHma",
    "outputId": "552296e5-8557-4084-cabc-e2edf21c75d5"
   },
   "outputs": [
    {
     "name": "stdout",
     "output_type": "stream",
     "text": [
      "Vocabulary mapping based on sample : \n",
      " {'the': 7, 'bird': 1, 'flew': 3, 'very': 8, 'high': 4, 'in': 5, 'sky': 6, 'with': 9, 'beautiful': 0, 'feathers': 2}\n",
      "\n",
      "Bag of word Representation of sentence '\n",
      "[[0 1 0 0 0 1 0 2 0 1]]\n"
     ]
    }
   ],
   "source": [
    "from sklearn.feature_extraction.text import CountVectorizer\n",
    "\n",
    "sample_bow = CountVectorizer()\n",
    "sample_corpus = [\"the bird flew\", \"the bird flew very high in the sky\", \"the bird with beautiful feathers\"]\n",
    "\n",
    "sample_bow.fit(sample_corpus)\n",
    "\n",
    "test_text = ['the bird sat in the tree with other birds']\n",
    "print(f\"Vocabulary mapping based on sample : \\n {sample_bow.vocabulary_}\")\n",
    "print(\"\\nBag of word Representation of sentence '\")\n",
    "\n",
    "print(sample_bow.transform(test_text).toarray())"
   ]
  },
  {
   "cell_type": "markdown",
   "metadata": {
    "id": "su_GTzgGotCX"
   },
   "source": [
    "#### Bag of words Use\n",
    "BoW is also easy to understand and implement but it also has its disadvantages - size increases with Corpuse Vocabulary Size, Similar meaning words not captured to be same, handling of Out of Vocabulary Words is not automatic and order of words is lost."
   ]
  },
  {
   "cell_type": "markdown",
   "metadata": {
    "id": "7V1eeAd5kroX"
   },
   "source": [
    "#### Bag of N-Grams\n",
    "Instead of treating words seperately, Bag of N-Grams allows us to treat phrases or group of words together.\n",
    "The corpus vocabulary, V, is then nothing but a collection of all unique n-grams across the text corpus.\n",
    "Representation vector essentially contains the frequency counts of n-grams in the document. We use zero for the n-grams that are not present."
   ]
  },
  {
   "cell_type": "code",
   "execution_count": 120,
   "metadata": {
    "colab": {
     "base_uri": "https://localhost:8080/",
     "height": 0
    },
    "executionInfo": {
     "elapsed": 619,
     "status": "ok",
     "timestamp": 1700506831522,
     "user": {
      "displayName": "Balaji Thiruvenkatachari",
      "userId": "09199609969781368622"
     },
     "user_tz": -330
    },
    "id": "X-2jaakjpUxC",
    "outputId": "83957508-78ef-4a0b-e8d8-22b507b256d5"
   },
   "outputs": [
    {
     "name": "stdout",
     "output_type": "stream",
     "text": [
      "Vocabulary mapping based on sample : \n",
      " {'the bird': 6, 'bird flew': 1, 'flew very': 3, 'very high': 8, 'high in': 4, 'in the': 5, 'the sky': 7, 'bird with': 2, 'with beautiful': 9, 'beautiful feathers': 0}\n",
      "\n",
      "Bag of word Representation of sentence '\n",
      "[[0 0 0 0 0 1 1 0 0 0]]\n"
     ]
    }
   ],
   "source": [
    "sample_BoNG = CountVectorizer(ngram_range = (2, 2))\n",
    "sample_corpus = [\"the bird flew\", \"the bird flew very high in the sky\", \"the bird with beautiful feathers\"]\n",
    "\n",
    "sample_BoNG.fit(sample_corpus)\n",
    "\n",
    "test_text = ['the bird sat in the tree with other birds']\n",
    "\n",
    "print(f\"Vocabulary mapping based on sample : \\n {sample_BoNG.vocabulary_}\")\n",
    "print(\"\\nBag of word Representation of sentence '\")\n",
    "\n",
    "print(sample_BoNG.transform(test_text).toarray())"
   ]
  },
  {
   "cell_type": "markdown",
   "metadata": {
    "id": "fH7qubA9qotA"
   },
   "source": [
    "##### Bag of N-Grams Use\n",
    "Advantage : Allows to capture some context and similarity. However dimensionality increases with increase in 'N' and the Out of Vocabulary handling is also a gap."
   ]
  },
  {
   "cell_type": "markdown",
   "metadata": {
    "id": "SpLkXtAjrHks"
   },
   "source": [
    "#### TF-IDF : Term Frequency\n",
    "- All the above mentioned methods don't allow for any ability to attach importance to words - all words treated equally.\n",
    "\n",
    "Attaching Importance:\n",
    "- If a word 'W' appears muliplte times in a Sentence 'Sx' but not in other Sentences in the Corpus then that word must be important to Sx.\n",
    "- Importance increases based on Frequency of its occurance in Sentence Sx but Importance decreases in proportion to words frequency in other Sentences (Sn) of the document.\n",
    "- Mathematically these are captured as TD and IDF. The combination is used to derive a TD-IDF Score."
   ]
  },
  {
   "cell_type": "markdown",
   "metadata": {
    "id": "Mi2lr1OqsmnG"
   },
   "source": [
    "**TERM FREQUENCY - TF (t,d) =  [Number of occurences of term t in document d] / [Total Number of terms in document d]**"
   ]
  },
  {
   "cell_type": "markdown",
   "metadata": {
    "id": "sxr2EF4qs6kH"
   },
   "source": [
    "**IDF INVERSE DOCUMENT FREQUENCY - IDF (t) =  LOG of ([Total number of Documents in the Corpus] / [Total Number of documents with terms t occuring in documents] )**"
   ]
  },
  {
   "cell_type": "markdown",
   "metadata": {
    "id": "c8D9Qyv4tTF4"
   },
   "source": [
    "**TD-IDF Score is a Product of TF and IDF = TF**"
   ]
  },
  {
   "cell_type": "code",
   "execution_count": 121,
   "metadata": {
    "colab": {
     "base_uri": "https://localhost:8080/",
     "height": 0
    },
    "executionInfo": {
     "elapsed": 481,
     "status": "ok",
     "timestamp": 1700506836413,
     "user": {
      "displayName": "Balaji Thiruvenkatachari",
      "userId": "09199609969781368622"
     },
     "user_tz": -330
    },
    "id": "g1bTTt5irGya",
    "outputId": "f0964dfb-a91e-453f-caa0-34ffe9330fb1"
   },
   "outputs": [
    {
     "name": "stdout",
     "output_type": "stream",
     "text": [
      "IDF Values for sample corpus : [1.69314718 1.         1.69314718 1.28768207 1.69314718 1.69314718\n",
      " 1.69314718 1.         1.69314718 1.69314718]\n",
      "\n",
      "TFiDF Representation of sentence '\n",
      "[[0.         0.30523155 0.         0.         0.         0.51680194\n",
      "  0.         0.61046311 0.         0.51680194]]\n"
     ]
    }
   ],
   "source": [
    "from sklearn.feature_extraction.text import TfidfVectorizer\n",
    "\n",
    "tfidf = TfidfVectorizer()\n",
    "\n",
    "sample_corpus = [\"the bird flew\", \"the bird flew very high in the sky\", \"the bird with beautiful feathers\"]\n",
    "tfidf.fit_transform(sample_corpus)\n",
    "\n",
    "print(f\"IDF Values for sample corpus : {tfidf.idf_}\")\n",
    "\n",
    "test_text = ['the bird sat in the tree with other birds']\n",
    "\n",
    "print(\"\\nTFiDF Representation of sentence '\")\n",
    "\n",
    "print(tfidf.transform(test_text).toarray())"
   ]
  },
  {
   "cell_type": "markdown",
   "metadata": {
    "id": "PfQvv8GSG7X2"
   },
   "source": [
    "# S3 Embeddings"
   ]
  },
  {
   "cell_type": "markdown",
   "metadata": {
    "id": "OH6AnqSSHcpi"
   },
   "source": [
    "#### WORD2VEC : Word 2 Vector based Word Embeddings\n",
    "- They are vector representation of words that represent words with same meaning in similar manner.\n",
    "- Word2Vec is a word embedding technique that uses Neural Network to learn word associations in input corpus.\n",
    "- Mathematically these are captured as TD and IDF. The combination is used to derive a TD-IDF Score.\n",
    "- Word2Vec project meaning of the words in a vector space such that words with similar meanings will tend to cluster. On the same token, words with different meanings are projected farther from each other.\n",
    "\n",
    "NOTE: We don't need to train our own Word2Vec as that will be time consuming and expensive. So we will use Pre-trained Word2Vec models.\n",
    "*   Word2vec by Google : One most common  implementations is with gensim. Disdvantage of Word2Vec is they rely only on local information of language.\n",
    "\n",
    "*   GloVe by Stanford : GloVe does not rely just on local context information of words, but uses global statistics or word co-occurrence. So Glove can be used to find relations between words like synonyms, entity to product relations etc.\n",
    "\n",
    "*   fasttext embeddings by Facebook\n"
   ]
  },
  {
   "cell_type": "markdown",
   "metadata": {
    "id": "jUYOXYCBNk8j"
   },
   "source": [
    "# APPROACH 1 - TFiDF Based Vectorization and Classification Model Building"
   ]
  },
  {
   "cell_type": "markdown",
   "metadata": {
    "id": "pceMXrdwNe2U"
   },
   "source": [
    "### TFiDF Vectorizer"
   ]
  },
  {
   "cell_type": "code",
   "execution_count": 128,
   "metadata": {
    "colab": {
     "base_uri": "https://localhost:8080/",
     "height": 0
    },
    "executionInfo": {
     "elapsed": 369,
     "status": "ok",
     "timestamp": 1700509223858,
     "user": {
      "displayName": "Balaji Thiruvenkatachari",
      "userId": "09199609969781368622"
     },
     "user_tz": -330
    },
    "id": "wMr5JS86OFtx",
    "outputId": "b353cea6-2a2a-47bb-a4d0-4d31c6852f8f"
   },
   "outputs": [
    {
     "name": "stdout",
     "output_type": "stream",
     "text": [
      "<class 'list'>\n",
      "['what said', 'plus youve added commercials to the experience tacky', 'i didnt today must mean i need to take another trip', 'its really aggressive to blast obnoxious entertainment in your guests faces amp they have little recourse', 'and its a really big bad thing about it']\n"
     ]
    }
   ],
   "source": [
    "# Initialize the \"TfidfVectorizer\" object to Convert a collection of raw documents to a matrix of TF-IDF features.\n",
    "\n",
    "tfidf_vectorizer = TfidfVectorizer(analyzer = \"word\",   \\\n",
    "                             tokenizer = None,    \\\n",
    "                             preprocessor = None, \\\n",
    "                             stop_words = None,   \\\n",
    "                             max_features = 5000,\n",
    "                             min_df=5,\n",
    "                             max_df=0.7,\n",
    "                             ngram_range=(1,2))\n",
    "\n",
    "# fit_transform() does two functions:\n",
    "# First it fits the model and learns the vocabulary;\n",
    "# Second it transforms our training data into feature vectors.\n",
    "\n",
    "# Note: The input to fit_transform should be a list of strings.\n",
    "lst_clean_text = []\n",
    "for word in df.text:\n",
    "    lst_clean_text.append(\" \".join(word))   #Note: this joins the tokens to form a sentence. We can use this to build vocabulary\n",
    "\n",
    "print(type(lst_clean_text))\n",
    "print(lst_clean_text[0:5])"
   ]
  },
  {
   "cell_type": "code",
   "execution_count": 136,
   "metadata": {
    "colab": {
     "base_uri": "https://localhost:8080/",
     "height": 0
    },
    "executionInfo": {
     "elapsed": 7968,
     "status": "ok",
     "timestamp": 1700509540732,
     "user": {
      "displayName": "Balaji Thiruvenkatachari",
      "userId": "09199609969781368622"
     },
     "user_tz": -330
    },
    "id": "r6dTkzX-O45k",
    "outputId": "9eaa6c02-a3c4-42a3-d1d1-be765e499f92"
   },
   "outputs": [
    {
     "name": "stdout",
     "output_type": "stream",
     "text": [
      "(14568, 5000)\n",
      "[[0. 0. 0. ... 0. 0. 0.]\n",
      " [0. 0. 0. ... 0. 0. 0.]\n",
      " [0. 0. 0. ... 0. 0. 0.]\n",
      " ...\n",
      " [0. 0. 0. ... 0. 0. 0.]\n",
      " [0. 0. 0. ... 0. 0. 0.]\n",
      " [0. 0. 0. ... 0. 0. 0.]]\n"
     ]
    }
   ],
   "source": [
    "tfidf_vectorizer_data_features = tfidf_vectorizer.fit_transform(lst_clean_text)\n",
    "# print (tfidf_vectorizer_data_features)\n",
    "tfidf_vectorizer_data_features = tfidf_vectorizer_data_features.toarray()\n",
    "\n",
    "print (tfidf_vectorizer_data_features.shape)\n",
    "print(tfidf_vectorizer_data_features)"
   ]
  },
  {
   "cell_type": "code",
   "execution_count": 140,
   "metadata": {
    "colab": {
     "base_uri": "https://localhost:8080/",
     "height": 0
    },
    "executionInfo": {
     "elapsed": 384,
     "status": "ok",
     "timestamp": 1700509646257,
     "user": {
      "displayName": "Balaji Thiruvenkatachari",
      "userId": "09199609969781368622"
     },
     "user_tz": -330
    },
    "id": "TFZ-qnshHANt",
    "outputId": "7f30f5ce-49a5-4155-c7cb-5c550b3a88e7"
   },
   "outputs": [
    {
     "name": "stdout",
     "output_type": "stream",
     "text": [
      "5000\n",
      "['10' '10 hours' '10 hrs' ... 'yyz' 'zero' 'zone']\n"
     ]
    }
   ],
   "source": [
    "# Sample the words in the vocabulary\n",
    "tfidf_vectorizer_vocab = tfidf_vectorizer.get_feature_names_out()\n",
    "print(len(tfidf_vectorizer_vocab))\n",
    "print (tfidf_vectorizer_vocab)"
   ]
  },
  {
   "cell_type": "code",
   "execution_count": 141,
   "metadata": {
    "colab": {
     "base_uri": "https://localhost:8080/",
     "height": 0
    },
    "executionInfo": {
     "elapsed": 383,
     "status": "ok",
     "timestamp": 1700509664691,
     "user": {
      "displayName": "Balaji Thiruvenkatachari",
      "userId": "09199609969781368622"
     },
     "user_tz": -330
    },
    "id": "VcrrPD-BRjrm",
    "outputId": "09c59396-0b52-412d-933f-cc234cd432f2"
   },
   "outputs": [
    {
     "name": "stdout",
     "output_type": "stream",
     "text": [
      "None\n"
     ]
    }
   ],
   "source": [
    "tfidf_vectorizer_stop_words = tfidf_vectorizer.get_stop_words()\n",
    "print (tfidf_vectorizer_stop_words)"
   ]
  },
  {
   "cell_type": "code",
   "execution_count": 147,
   "metadata": {
    "colab": {
     "base_uri": "https://localhost:8080/",
     "height": 0
    },
    "executionInfo": {
     "elapsed": 362,
     "status": "ok",
     "timestamp": 1700509893728,
     "user": {
      "displayName": "Balaji Thiruvenkatachari",
      "userId": "09199609969781368622"
     },
     "user_tz": -330
    },
    "id": "KSmFjzAfRm_L",
    "outputId": "b050295c-1ed4-44e7-b745-aa3840edab2e"
   },
   "outputs": [
    {
     "name": "stdout",
     "output_type": "stream",
     "text": [
      "23.447539546835053 \t 10\n",
      "3.079062561157798 \t 10 hours\n",
      "2.4056239744347443 \t 10 hrs\n",
      "3.683660847215044 \t 10 min\n",
      "4.069686742595386 \t 10 minutes\n",
      "13.445622027552924 \t 100\n",
      "3.5178109386086143 \t 1000\n",
      "9.19635616088468 \t 11\n",
      "2.87781175422985 \t 1130\n",
      "19.61189150932459 \t 12\n",
      "6.090962302142026 \t 12 hours\n",
      "3.5206484055281138 \t 12 hrs\n",
      "5.442572634606434 \t 13\n",
      "3.8136881760173744 \t 130\n",
      "2.9015236515288723 \t 136\n",
      "3.80842232070695 \t 14\n",
      "4.213140345810883 \t 140\n",
      "22.1087486091979 \t 15\n",
      "6.388467660993922 \t 15 hours\n",
      "3.8766872058554807 \t 15 hrs\n"
     ]
    }
   ],
   "source": [
    "# Sum up the counts of each vocabulary word\n",
    "tf_df_dist = np.sum(tfidf_vectorizer_data_features, axis=0)\n",
    "\n",
    "# For each, print the vocabulary word and the number of times it\n",
    "# appears in the training set\n",
    "cnt=0\n",
    "for tag, count in zip(tfidf_vectorizer_vocab, tf_df_dist):\n",
    "    # print (tag, count)\n",
    "    if cnt < 20:                        # Just Print first 20 Vocabulary items. Else we get a long list\n",
    "       print (count, '\\t', tag)\n",
    "       cnt = cnt + 1"
   ]
  },
  {
   "cell_type": "markdown",
   "metadata": {
    "id": "q4rfJALRTiFF"
   },
   "source": [
    "### Fit and evaluate model using  tfidf vectorization."
   ]
  },
  {
   "cell_type": "code",
   "execution_count": 164,
   "metadata": {
    "colab": {
     "base_uri": "https://localhost:8080/",
     "height": 467
    },
    "executionInfo": {
     "elapsed": 27,
     "status": "ok",
     "timestamp": 1700510306272,
     "user": {
      "displayName": "Balaji Thiruvenkatachari",
      "userId": "09199609969781368622"
     },
     "user_tz": -330
    },
    "id": "HyzS70HjT_3C",
    "outputId": "ebb5edcf-a60e-4257-f06c-165be6384771"
   },
   "outputs": [
    {
     "data": {
      "text/plain": [
       "<Axes: xlabel='airline_sentiment', ylabel='count'>"
      ]
     },
     "execution_count": 164,
     "metadata": {},
     "output_type": "execute_result"
    },
    {
     "data": {
      "image/png": "[encoded data removed]",
      "text/plain": [
       "<Figure size 640x480 with 1 Axes>"
      ]
     },
     "metadata": {},
     "output_type": "display_data"
    }
   ],
   "source": [
    "sns.countplot(x = \"airline_sentiment\", data = df, palette='BuGn')  # Mostly Negative Sentitments"
   ]
  },
  {
   "cell_type": "markdown",
   "metadata": {
    "id": "XFQATP9RVeq3"
   },
   "source": [
    "### Split the data between Training and Testing"
   ]
  },
  {
   "cell_type": "code",
   "execution_count": 168,
   "metadata": {
    "executionInfo": {
     "elapsed": 946,
     "status": "ok",
     "timestamp": 1700510544947,
     "user": {
      "displayName": "Balaji Thiruvenkatachari",
      "userId": "09199609969781368622"
     },
     "user_tz": -330
    },
    "id": "fvZCphqBUhp7"
   },
   "outputs": [],
   "source": [
    "# Split the data between Training and Testing\n",
    "x_tf_idf = tfidf_vectorizer_data_features     # Predictor feature columns\n",
    "y_tf_idf = df['airline_sentiment']   # Predicted class\n",
    "\n",
    "x_train_tf_idf, x_test_tf_idf, y_train_tf_idf, y_test_tf_idf = train_test_split(x_tf_idf, y_tf_idf, test_size=0.3, random_state=32)"
   ]
  },
  {
   "cell_type": "code",
   "execution_count": 185,
   "metadata": {
    "colab": {
     "base_uri": "https://localhost:8080/",
     "height": 0
    },
    "executionInfo": {
     "elapsed": 10,
     "status": "ok",
     "timestamp": 1700511947960,
     "user": {
      "displayName": "Balaji Thiruvenkatachari",
      "userId": "09199609969781368622"
     },
     "user_tz": -330
    },
    "id": "TnAscVabY82g",
    "outputId": "fe9a619b-474b-4b07-a892-ad1c7bd50341"
   },
   "outputs": [
    {
     "data": {
      "text/plain": [
       "14568"
      ]
     },
     "execution_count": 185,
     "metadata": {},
     "output_type": "execute_result"
    }
   ],
   "source": [
    "print(len(tfidf_vectorizer_data_features))"
   ]
  },
  {
   "cell_type": "code",
   "execution_count": 171,
   "metadata": {
    "colab": {
     "base_uri": "https://localhost:8080/",
     "height": 0
    },
    "executionInfo": {
     "elapsed": 10,
     "status": "ok",
     "timestamp": 1700510619933,
     "user": {
      "displayName": "Balaji Thiruvenkatachari",
      "userId": "09199609969781368622"
     },
     "user_tz": -330
    },
    "id": "R8f3yClLU959",
    "outputId": "00ecfc03-fe1c-4ed4-c79d-31a1c5a3f747"
   },
   "outputs": [
    {
     "name": "stdout",
     "output_type": "stream",
     "text": [
      "(10197, 5000) (10197,)\n",
      "(4371, 5000) (4371,)\n"
     ]
    }
   ],
   "source": [
    "print(x_train_tf_idf.shape, y_train_tf_idf.shape) #10197 Training rows,  4371 Testing rows\n",
    "print(x_test_tf_idf.shape, y_test_tf_idf.shape)"
   ]
  },
  {
   "cell_type": "markdown",
   "metadata": {
    "id": "O61uYlcgVk3R"
   },
   "source": [
    "### Balancing Classes as there are lot more negative sentiments than positive or neutral"
   ]
  },
  {
   "cell_type": "code",
   "execution_count": 175,
   "metadata": {
    "executionInfo": {
     "elapsed": 9075,
     "status": "ok",
     "timestamp": 1700510884987,
     "user": {
      "displayName": "Balaji Thiruvenkatachari",
      "userId": "09199609969781368622"
     },
     "user_tz": -330
    },
    "id": "L_6Wr-TtVZE6"
   },
   "outputs": [],
   "source": [
    "tf_idf_smt = SMOTE(random_state=0)\n",
    "X_train_tf_idf_SMOTE, y_train_tf_idf_SMOTE = smt.fit_resample(x_train_tf_idf, y_train_tf_idf)"
   ]
  },
  {
   "cell_type": "code",
   "execution_count": 176,
   "metadata": {
    "colab": {
     "base_uri": "https://localhost:8080/",
     "height": 0
    },
    "executionInfo": {
     "elapsed": 374,
     "status": "ok",
     "timestamp": 1700510889255,
     "user": {
      "displayName": "Balaji Thiruvenkatachari",
      "userId": "09199609969781368622"
     },
     "user_tz": -330
    },
    "id": "tSsOfxFVV5Rj",
    "outputId": "e2b773bb-17eb-4f1e-8b43-f8dc7c185a93"
   },
   "outputs": [
    {
     "name": "stdout",
     "output_type": "stream",
     "text": [
      "(19017, 5000)\n",
      "(19017,)\n"
     ]
    }
   ],
   "source": [
    "print(X_train_tf_idf_SMOTE.shape)\n",
    "print(y_train_tf_idf_SMOTE.shape)"
   ]
  },
  {
   "cell_type": "code",
   "execution_count": 180,
   "metadata": {
    "colab": {
     "base_uri": "https://localhost:8080/",
     "height": 554
    },
    "executionInfo": {
     "elapsed": 29,
     "status": "ok",
     "timestamp": 1700511017187,
     "user": {
      "displayName": "Balaji Thiruvenkatachari",
      "userId": "09199609969781368622"
     },
     "user_tz": -330
    },
    "id": "9c_Npmg4WR5c",
    "outputId": "225cd8e2-8d19-42e6-aae2-710da05ec50e"
   },
   "outputs": [
    {
     "name": "stdout",
     "output_type": "stream",
     "text": [
      "airline_sentiment\n",
      "negative             6339\n",
      "neutral              6339\n",
      "positive             6339\n",
      "dtype: int64\n"
     ]
    },
    {
     "data": {
      "text/plain": [
       "<Axes: xlabel='airline_sentiment', ylabel='count'>"
      ]
     },
     "execution_count": 180,
     "metadata": {},
     "output_type": "execute_result"
    },
    {
     "data": {
      "image/png": "[encoded data removed]",
      "text/plain": [
       "<Figure size 640x480 with 1 Axes>"
      ]
     },
     "metadata": {},
     "output_type": "display_data"
    }
   ],
   "source": [
    "df_y_train_tf_idf_SMOTE = pd.DataFrame(y_train_tf_idf_SMOTE, columns=['airline_sentiment'])\n",
    "print(df_y_train_tf_idf_SMOTE.value_counts())\n",
    "sns.countplot(x = \"airline_sentiment\", data = df_y_train_tf_idf_SMOTE, palette='BuGn')  # Mostly Negative Sentitments"
   ]
  },
  {
   "cell_type": "markdown",
   "metadata": {
    "id": "M03rATDhXJnL"
   },
   "source": [
    "# Build a Classification Model : Try RandomForestClassifier"
   ]
  },
  {
   "cell_type": "code",
   "execution_count": 181,
   "metadata": {
    "colab": {
     "base_uri": "https://localhost:8080/",
     "height": 0
    },
    "executionInfo": {
     "elapsed": 56890,
     "status": "ok",
     "timestamp": 1700511280386,
     "user": {
      "displayName": "Balaji Thiruvenkatachari",
      "userId": "09199609969781368622"
     },
     "user_tz": -330
    },
    "id": "Zmk6eE5aXQKn",
    "outputId": "05add027-991a-49f1-9e5e-a8fd7ff6b7be"
   },
   "outputs": [
    {
     "name": "stderr",
     "output_type": "stream",
     "text": [
      "[Parallel(n_jobs=-1)]: Using backend ThreadingBackend with 2 concurrent workers.\n",
      "[Parallel(n_jobs=-1)]: Done  46 tasks      | elapsed:   26.2s\n",
      "[Parallel(n_jobs=-1)]: Done 100 out of 100 | elapsed:   56.1s finished\n"
     ]
    }
   ],
   "source": [
    "# Initialize a Random Forest classifier with 100 trees\n",
    "\n",
    "classifier_rf = RandomForestClassifier(verbose=1,n_jobs=-1,n_estimators = 100)\n",
    "\n",
    "# Fit the forest to the training set\n",
    "classifier_rf = classifier_rf.fit( X_train_tf_idf_SMOTE, y_train_tf_idf_SMOTE)"
   ]
  },
  {
   "cell_type": "code",
   "execution_count": 182,
   "metadata": {
    "colab": {
     "base_uri": "https://localhost:8080/",
     "height": 0
    },
    "executionInfo": {
     "elapsed": 2357,
     "status": "ok",
     "timestamp": 1700511352542,
     "user": {
      "displayName": "Balaji Thiruvenkatachari",
      "userId": "09199609969781368622"
     },
     "user_tz": -330
    },
    "id": "_zpqebB_X2ow",
    "outputId": "41ef8dcf-6804-4924-b5cd-9198edc3cf1f"
   },
   "outputs": [
    {
     "name": "stderr",
     "output_type": "stream",
     "text": [
      "[Parallel(n_jobs=2)]: Using backend ThreadingBackend with 2 concurrent workers.\n",
      "[Parallel(n_jobs=2)]: Done  46 tasks      | elapsed:    0.7s\n",
      "[Parallel(n_jobs=2)]: Done 100 out of 100 | elapsed:    1.6s finished\n"
     ]
    },
    {
     "data": {
      "text/plain": [
       "0.9961087448072777"
      ]
     },
     "execution_count": 182,
     "metadata": {},
     "output_type": "execute_result"
    }
   ],
   "source": [
    "classifier_rf.score(X_train_tf_idf_SMOTE, y_train_tf_idf_SMOTE)"
   ]
  },
  {
   "cell_type": "markdown",
   "metadata": {
    "id": "KaV1JG_NYD3s"
   },
   "source": [
    "#### Evaluate Score using Cross-Validation : Average across multiple samples"
   ]
  },
  {
   "cell_type": "code",
   "execution_count": 184,
   "metadata": {
    "colab": {
     "base_uri": "https://localhost:8080/",
     "height": 0
    },
    "executionInfo": {
     "elapsed": 541854,
     "status": "ok",
     "timestamp": 1700511946538,
     "user": {
      "displayName": "Balaji Thiruvenkatachari",
      "userId": "09199609969781368622"
     },
     "user_tz": -330
    },
    "id": "xWZHt6BsYDah",
    "outputId": "71c05fde-ca82-4d3c-fc27-e2bc31f3ca4f"
   },
   "outputs": [
    {
     "name": "stderr",
     "output_type": "stream",
     "text": [
      "[Parallel(n_jobs=-1)]: Using backend ThreadingBackend with 2 concurrent workers.\n",
      "[Parallel(n_jobs=-1)]: Done  46 tasks      | elapsed:   28.5s\n",
      "[Parallel(n_jobs=-1)]: Done 100 out of 100 | elapsed:  1.0min finished\n",
      "[Parallel(n_jobs=2)]: Using backend ThreadingBackend with 2 concurrent workers.\n",
      "[Parallel(n_jobs=2)]: Done  46 tasks      | elapsed:    0.2s\n",
      "[Parallel(n_jobs=2)]: Done 100 out of 100 | elapsed:    0.4s finished\n",
      "[Parallel(n_jobs=-1)]: Using backend ThreadingBackend with 2 concurrent workers.\n",
      "[Parallel(n_jobs=-1)]: Done  46 tasks      | elapsed:   32.5s\n",
      "[Parallel(n_jobs=-1)]: Done 100 out of 100 | elapsed:   59.2s finished\n",
      "[Parallel(n_jobs=2)]: Using backend ThreadingBackend with 2 concurrent workers.\n",
      "[Parallel(n_jobs=2)]: Done  46 tasks      | elapsed:    0.1s\n",
      "[Parallel(n_jobs=2)]: Done 100 out of 100 | elapsed:    0.2s finished\n",
      "[Parallel(n_jobs=-1)]: Using backend ThreadingBackend with 2 concurrent workers.\n",
      "[Parallel(n_jobs=-1)]: Done  46 tasks      | elapsed:   23.6s\n",
      "[Parallel(n_jobs=-1)]: Done 100 out of 100 | elapsed:   51.9s finished\n",
      "[Parallel(n_jobs=2)]: Using backend ThreadingBackend with 2 concurrent workers.\n",
      "[Parallel(n_jobs=2)]: Done  46 tasks      | elapsed:    0.1s\n",
      "[Parallel(n_jobs=2)]: Done 100 out of 100 | elapsed:    0.2s finished\n",
      "[Parallel(n_jobs=-1)]: Using backend ThreadingBackend with 2 concurrent workers.\n",
      "[Parallel(n_jobs=-1)]: Done  46 tasks      | elapsed:   26.2s\n",
      "[Parallel(n_jobs=-1)]: Done 100 out of 100 | elapsed:   57.7s finished\n",
      "[Parallel(n_jobs=2)]: Using backend ThreadingBackend with 2 concurrent workers.\n",
      "[Parallel(n_jobs=2)]: Done  46 tasks      | elapsed:    0.1s\n",
      "[Parallel(n_jobs=2)]: Done 100 out of 100 | elapsed:    0.2s finished\n",
      "[Parallel(n_jobs=-1)]: Using backend ThreadingBackend with 2 concurrent workers.\n",
      "[Parallel(n_jobs=-1)]: Done  46 tasks      | elapsed:   22.1s\n",
      "[Parallel(n_jobs=-1)]: Done 100 out of 100 | elapsed:   51.6s finished\n",
      "[Parallel(n_jobs=2)]: Using backend ThreadingBackend with 2 concurrent workers.\n",
      "[Parallel(n_jobs=2)]: Done  46 tasks      | elapsed:    0.2s\n",
      "[Parallel(n_jobs=2)]: Done 100 out of 100 | elapsed:    0.5s finished\n",
      "[Parallel(n_jobs=-1)]: Using backend ThreadingBackend with 2 concurrent workers.\n",
      "[Parallel(n_jobs=-1)]: Done  46 tasks      | elapsed:   28.1s\n",
      "[Parallel(n_jobs=-1)]: Done 100 out of 100 | elapsed:   54.6s finished\n",
      "[Parallel(n_jobs=2)]: Using backend ThreadingBackend with 2 concurrent workers.\n",
      "[Parallel(n_jobs=2)]: Done  46 tasks      | elapsed:    0.1s\n",
      "[Parallel(n_jobs=2)]: Done 100 out of 100 | elapsed:    0.2s finished\n",
      "[Parallel(n_jobs=-1)]: Using backend ThreadingBackend with 2 concurrent workers.\n",
      "[Parallel(n_jobs=-1)]: Done  46 tasks      | elapsed:   23.6s\n",
      "[Parallel(n_jobs=-1)]: Done 100 out of 100 | elapsed:   49.9s finished\n",
      "[Parallel(n_jobs=2)]: Using backend ThreadingBackend with 2 concurrent workers.\n",
      "[Parallel(n_jobs=2)]: Done  46 tasks      | elapsed:    0.1s\n",
      "[Parallel(n_jobs=2)]: Done 100 out of 100 | elapsed:    0.2s finished\n",
      "[Parallel(n_jobs=-1)]: Using backend ThreadingBackend with 2 concurrent workers.\n",
      "[Parallel(n_jobs=-1)]: Done  46 tasks      | elapsed:   23.6s\n",
      "[Parallel(n_jobs=-1)]: Done 100 out of 100 | elapsed:   49.3s finished\n",
      "[Parallel(n_jobs=2)]: Using backend ThreadingBackend with 2 concurrent workers.\n",
      "[Parallel(n_jobs=2)]: Done  46 tasks      | elapsed:    0.1s\n",
      "[Parallel(n_jobs=2)]: Done 100 out of 100 | elapsed:    0.2s finished\n",
      "[Parallel(n_jobs=-1)]: Using backend ThreadingBackend with 2 concurrent workers.\n",
      "[Parallel(n_jobs=-1)]: Done  46 tasks      | elapsed:   22.4s\n",
      "[Parallel(n_jobs=-1)]: Done 100 out of 100 | elapsed:   48.0s finished\n",
      "[Parallel(n_jobs=2)]: Using backend ThreadingBackend with 2 concurrent workers.\n",
      "[Parallel(n_jobs=2)]: Done  46 tasks      | elapsed:    0.1s\n",
      "[Parallel(n_jobs=2)]: Done 100 out of 100 | elapsed:    0.3s finished\n",
      "[Parallel(n_jobs=-1)]: Using backend ThreadingBackend with 2 concurrent workers.\n",
      "[Parallel(n_jobs=-1)]: Done  46 tasks      | elapsed:   23.4s\n",
      "[Parallel(n_jobs=-1)]: Done 100 out of 100 | elapsed:   49.8s finished\n",
      "[Parallel(n_jobs=2)]: Using backend ThreadingBackend with 2 concurrent workers.\n",
      "[Parallel(n_jobs=2)]: Done  46 tasks      | elapsed:    0.1s\n"
     ]
    },
    {
     "name": "stdout",
     "output_type": "stream",
     "text": [
      "0.8897881794462043\n"
     ]
    },
    {
     "name": "stderr",
     "output_type": "stream",
     "text": [
      "[Parallel(n_jobs=2)]: Done 100 out of 100 | elapsed:    0.2s finished\n"
     ]
    }
   ],
   "source": [
    "print (np.mean(cross_val_score(classifier_rf, X_train_tf_idf_SMOTE, y_train_tf_idf_SMOTE,cv=10)))"
   ]
  },
  {
   "cell_type": "markdown",
   "metadata": {
    "id": "ULEC1jgzYW9Q"
   },
   "source": [
    "### Predict Sentiment based on the Trained Model or values"
   ]
  },
  {
   "cell_type": "code",
   "execution_count": 190,
   "metadata": {
    "colab": {
     "base_uri": "https://localhost:8080/",
     "height": 0
    },
    "executionInfo": {
     "elapsed": 366,
     "status": "ok",
     "timestamp": 1700512251117,
     "user": {
      "displayName": "Balaji Thiruvenkatachari",
      "userId": "09199609969781368622"
     },
     "user_tz": -330
    },
    "id": "oYC0B5MJbXQG",
    "outputId": "c4e67f14-a709-4359-b495-55d294e3f660"
   },
   "outputs": [
    {
     "name": "stdout",
     "output_type": "stream",
     "text": [
      "(2185, 5000)\n",
      "(2186, 5000)\n",
      "(2185,)\n",
      "(2186,)\n"
     ]
    }
   ],
   "source": [
    "# Dividing the test data into test and validation set in 50-50 ratio\n",
    "x_validation_tf_idf, x_test_main_tf_idf, y_validation_tf_idf, y_test_main_tf_idf = train_test_split(x_test_tf_idf, y_test_tf_idf, test_size=0.50, random_state=1)\n",
    "\n",
    "print(x_validation_tf_idf.shape)\n",
    "print(x_test_main_tf_idf.shape)\n",
    "print(y_validation_tf_idf.shape)\n",
    "print(y_test_main_tf_idf.shape)"
   ]
  },
  {
   "cell_type": "code",
   "execution_count": 191,
   "metadata": {
    "colab": {
     "base_uri": "https://localhost:8080/",
     "height": 0
    },
    "executionInfo": {
     "elapsed": 952,
     "status": "ok",
     "timestamp": 1700512260402,
     "user": {
      "displayName": "Balaji Thiruvenkatachari",
      "userId": "09199609969781368622"
     },
     "user_tz": -330
    },
    "id": "HT_6VLCTYbM7",
    "outputId": "8416d260-5074-4ebd-c0fc-ef5ea448521d"
   },
   "outputs": [
    {
     "name": "stderr",
     "output_type": "stream",
     "text": [
      "[Parallel(n_jobs=2)]: Using backend ThreadingBackend with 2 concurrent workers.\n",
      "[Parallel(n_jobs=2)]: Done  46 tasks      | elapsed:    0.3s\n",
      "[Parallel(n_jobs=2)]: Done 100 out of 100 | elapsed:    0.5s finished\n"
     ]
    }
   ],
   "source": [
    "y_validation_predict_tf_idf= classifier_rf.predict(x_validation_tf_idf)"
   ]
  },
  {
   "cell_type": "code",
   "execution_count": 193,
   "metadata": {
    "colab": {
     "base_uri": "https://localhost:8080/",
     "height": 0
    },
    "executionInfo": {
     "elapsed": 2585,
     "status": "ok",
     "timestamp": 1700512335595,
     "user": {
      "displayName": "Balaji Thiruvenkatachari",
      "userId": "09199609969781368622"
     },
     "user_tz": -330
    },
    "id": "j9GwcW6ObiRs",
    "outputId": "a5f4ff48-1669-49b2-e669-52a532a81740"
   },
   "outputs": [
    {
     "name": "stderr",
     "output_type": "stream",
     "text": [
      "[Parallel(n_jobs=2)]: Using backend ThreadingBackend with 2 concurrent workers.\n",
      "[Parallel(n_jobs=2)]: Done  46 tasks      | elapsed:    0.9s\n",
      "[Parallel(n_jobs=2)]: Done 100 out of 100 | elapsed:    1.7s finished\n",
      "[Parallel(n_jobs=2)]: Using backend ThreadingBackend with 2 concurrent workers.\n",
      "[Parallel(n_jobs=2)]: Done  46 tasks      | elapsed:    0.1s\n"
     ]
    },
    {
     "name": "stdout",
     "output_type": "stream",
     "text": [
      "\n",
      " Training accuracy 0.9961087448072777\n",
      "\n",
      " Validation accuracy 0.7693363844393593\n",
      " \n"
     ]
    },
    {
     "name": "stderr",
     "output_type": "stream",
     "text": [
      "[Parallel(n_jobs=2)]: Done 100 out of 100 | elapsed:    0.2s finished\n"
     ]
    }
   ],
   "source": [
    "print(\"\\n Training accuracy\",classifier_rf.score(X_train_tf_idf_SMOTE,y_train_tf_idf_SMOTE))\n",
    "print(\"\\n Validation accuracy\",classifier_rf.score(x_validation_tf_idf, y_validation_tf_idf))\n",
    "print(\" \")"
   ]
  },
  {
   "cell_type": "code",
   "execution_count": 194,
   "metadata": {
    "colab": {
     "base_uri": "https://localhost:8080/",
     "height": 0
    },
    "executionInfo": {
     "elapsed": 974,
     "status": "ok",
     "timestamp": 1700512353856,
     "user": {
      "displayName": "Balaji Thiruvenkatachari",
      "userId": "09199609969781368622"
     },
     "user_tz": -330
    },
    "id": "8juK-XSubzii",
    "outputId": "b72646ee-cd81-4e9c-cd37-33bede1aba36"
   },
   "outputs": [
    {
     "name": "stdout",
     "output_type": "stream",
     "text": [
      "              precision    recall  f1-score   support\n",
      "\n",
      "    negative       0.81      0.89      0.85      1384\n",
      "     neutral       0.61      0.53      0.57       441\n",
      "    positive       0.74      0.58      0.65       360\n",
      "\n",
      "    accuracy                           0.77      2185\n",
      "   macro avg       0.72      0.67      0.69      2185\n",
      "weighted avg       0.76      0.77      0.76      2185\n",
      "\n"
     ]
    }
   ],
   "source": [
    "print(metrics.classification_report(y_validation_tf_idf,y_validation_predict_tf_idf))"
   ]
  },
  {
   "cell_type": "markdown",
   "metadata": {
    "id": "GkwQuHIAb3nC"
   },
   "source": [
    "# Print the Confusion Matrix"
   ]
  },
  {
   "cell_type": "code",
   "execution_count": 196,
   "metadata": {
    "colab": {
     "base_uri": "https://localhost:8080/",
     "height": 719
    },
    "executionInfo": {
     "elapsed": 1084,
     "status": "ok",
     "timestamp": 1700512403691,
     "user": {
      "displayName": "Balaji Thiruvenkatachari",
      "userId": "09199609969781368622"
     },
     "user_tz": -330
    },
    "id": "9uIPLuB4b3HX",
    "outputId": "d3825edd-863a-4081-9869-7e23fa88dae8"
   },
   "outputs": [
    {
     "data": {
      "text/plain": [
       "<Figure size 640x480 with 0 Axes>"
      ]
     },
     "metadata": {},
     "output_type": "display_data"
    },
    {
     "data": {
      "image/png": "[encoded data removed]",
      "text/plain": [
       "<Figure size 1200x800 with 1 Axes>"
      ]
     },
     "metadata": {},
     "output_type": "display_data"
    }
   ],
   "source": [
    "cm=confusion_matrix(y_validation_predict_tf_idf , y_validation_tf_idf)\n",
    "plt.figure()\n",
    "plot_confusion_matrix(cm,figsize=(12,8), hide_ticks=True,cmap=plt.cm.Reds)\n",
    "plt.xticks(range(3), ['Negative', 'Neutral', 'Positive'], fontsize=16,color='black')\n",
    "plt.yticks(range(3), ['Negative', 'Neutral', 'Positive'], fontsize=16)\n",
    "plt.show()"
   ]
  },
  {
   "cell_type": "code",
   "execution_count": 198,
   "metadata": {
    "colab": {
     "base_uri": "https://localhost:8080/",
     "height": 0
    },
    "executionInfo": {
     "elapsed": 942,
     "status": "ok",
     "timestamp": 1700512444123,
     "user": {
      "displayName": "Balaji Thiruvenkatachari",
      "userId": "09199609969781368622"
     },
     "user_tz": -330
    },
    "id": "zJKC3HAOcGjZ",
    "outputId": "81137556-2c49-4de4-a720-dfd9130ae773"
   },
   "outputs": [
    {
     "name": "stderr",
     "output_type": "stream",
     "text": [
      "[Parallel(n_jobs=2)]: Using backend ThreadingBackend with 2 concurrent workers.\n",
      "[Parallel(n_jobs=2)]: Done  46 tasks      | elapsed:    0.2s\n",
      "[Parallel(n_jobs=2)]: Done 100 out of 100 | elapsed:    0.4s finished\n"
     ]
    },
    {
     "name": "stdout",
     "output_type": "stream",
     "text": [
      "Test accuracy 0.7634949679780421\n",
      "\n"
     ]
    }
   ],
   "source": [
    "print(\"Test accuracy\",classifier_rf.score(x_test_main_tf_idf, y_test_main_tf_idf))\n",
    "print()"
   ]
  },
  {
   "cell_type": "markdown",
   "metadata": {
    "id": "0P1nyq72cNn5"
   },
   "source": [
    "# Make Class Predictions on Test Data"
   ]
  },
  {
   "cell_type": "code",
   "execution_count": 200,
   "metadata": {
    "colab": {
     "base_uri": "https://localhost:8080/",
     "height": 0
    },
    "executionInfo": {
     "elapsed": 617,
     "status": "ok",
     "timestamp": 1700512483350,
     "user": {
      "displayName": "Balaji Thiruvenkatachari",
      "userId": "09199609969781368622"
     },
     "user_tz": -330
    },
    "id": "hdzxn2AicNPg",
    "outputId": "4ee42f95-e348-426f-a460-129cf9a8bd10"
   },
   "outputs": [
    {
     "name": "stderr",
     "output_type": "stream",
     "text": [
      "[Parallel(n_jobs=2)]: Using backend ThreadingBackend with 2 concurrent workers.\n",
      "[Parallel(n_jobs=2)]: Done  46 tasks      | elapsed:    0.1s\n"
     ]
    },
    {
     "name": "stdout",
     "output_type": "stream",
     "text": [
      "              precision    recall  f1-score   support\n",
      "\n",
      "    negative       0.81      0.90      0.85      1417\n",
      "     neutral       0.59      0.46      0.52       439\n",
      "    positive       0.71      0.57      0.63       330\n",
      "\n",
      "    accuracy                           0.76      2186\n",
      "   macro avg       0.70      0.64      0.67      2186\n",
      "weighted avg       0.75      0.76      0.75      2186\n",
      "\n"
     ]
    },
    {
     "name": "stderr",
     "output_type": "stream",
     "text": [
      "[Parallel(n_jobs=2)]: Done 100 out of 100 | elapsed:    0.3s finished\n"
     ]
    }
   ],
   "source": [
    "# Make class predictions for the test set\n",
    "y_test_predict_tf_idf= classifier_rf.predict(x_test_main_tf_idf)\n",
    "print(metrics.classification_report(y_test_main_tf_idf,y_test_predict_tf_idf))"
   ]
  },
  {
   "cell_type": "markdown",
   "metadata": {
    "id": "LgH4B4ZycW6r"
   },
   "source": [
    "### Print Confusion Matrix on Test Data Output"
   ]
  },
  {
   "cell_type": "code",
   "execution_count": 202,
   "metadata": {
    "colab": {
     "base_uri": "https://localhost:8080/",
     "height": 719
    },
    "executionInfo": {
     "elapsed": 26,
     "status": "ok",
     "timestamp": 1700512523084,
     "user": {
      "displayName": "Balaji Thiruvenkatachari",
      "userId": "09199609969781368622"
     },
     "user_tz": -330
    },
    "id": "kC2ZsO-PcbYa",
    "outputId": "42d9393b-02e4-4830-8d79-d32ce098c041"
   },
   "outputs": [
    {
     "data": {
      "text/plain": [
       "<Figure size 640x480 with 0 Axes>"
      ]
     },
     "metadata": {},
     "output_type": "display_data"
    },
    {
     "data": {
      "image/png": "[encoded data removed]",
      "text/plain": [
       "<Figure size 1200x800 with 1 Axes>"
      ]
     },
     "metadata": {},
     "output_type": "display_data"
    }
   ],
   "source": [
    "cm=confusion_matrix(y_test_predict_tf_idf , y_test_main_tf_idf)\n",
    "plt.figure()\n",
    "plot_confusion_matrix(cm,figsize=(12,8), hide_ticks=True,cmap=plt.cm.Reds)\n",
    "plt.xticks(range(3), ['Negative', 'Neutral', 'Positive'], fontsize=16,color='black')\n",
    "plt.yticks(range(3), ['Negative', 'Neutral', 'Positive'], fontsize=16)\n",
    "plt.show()"
   ]
  },
  {
   "cell_type": "markdown",
   "metadata": {
    "id": "YfTdJ6BsclXM"
   },
   "source": [
    "# Performance of Classification Model and Summary"
   ]
  },
  {
   "cell_type": "markdown",
   "metadata": {
    "id": "Ctd1xqQHcxF-"
   },
   "source": [
    "Performance based on RandomForestClassifier on TfidfVectorizer"
   ]
  },
  {
   "cell_type": "code",
   "execution_count": 205,
   "metadata": {
    "colab": {
     "base_uri": "https://localhost:8080/",
     "height": 1118
    },
    "executionInfo": {
     "elapsed": 6064,
     "status": "ok",
     "timestamp": 1700512653076,
     "user": {
      "displayName": "Balaji Thiruvenkatachari",
      "userId": "09199609969781368622"
     },
     "user_tz": -330
    },
    "id": "sbp-Mi7jcrn4",
    "outputId": "ea189ab5-bfb8-40b4-91dd-4b61c6ff6677"
   },
   "outputs": [
    {
     "name": "stderr",
     "output_type": "stream",
     "text": [
      "[Parallel(n_jobs=2)]: Using backend ThreadingBackend with 2 concurrent workers.\n",
      "[Parallel(n_jobs=2)]: Done  46 tasks      | elapsed:    1.9s\n",
      "[Parallel(n_jobs=2)]: Done 100 out of 100 | elapsed:    3.3s finished\n",
      "[Parallel(n_jobs=2)]: Using backend ThreadingBackend with 2 concurrent workers.\n"
     ]
    },
    {
     "name": "stdout",
     "output_type": "stream",
     "text": [
      "Training accuracy 0.9961087448072777\n",
      "\n"
     ]
    },
    {
     "name": "stderr",
     "output_type": "stream",
     "text": [
      "[Parallel(n_jobs=2)]: Done  46 tasks      | elapsed:    0.1s\n",
      "[Parallel(n_jobs=2)]: Done 100 out of 100 | elapsed:    0.3s finished\n"
     ]
    },
    {
     "name": "stdout",
     "output_type": "stream",
     "text": [
      "Test accuracy 0.7634949679780421\n",
      "\n"
     ]
    },
    {
     "name": "stderr",
     "output_type": "stream",
     "text": [
      "[Parallel(n_jobs=2)]: Using backend ThreadingBackend with 2 concurrent workers.\n",
      "[Parallel(n_jobs=2)]: Done  46 tasks      | elapsed:    0.2s\n"
     ]
    },
    {
     "name": "stdout",
     "output_type": "stream",
     "text": [
      "              precision    recall  f1-score   support\n",
      "\n",
      "    negative       0.81      0.90      0.85      1417\n",
      "     neutral       0.59      0.46      0.52       439\n",
      "    positive       0.71      0.57      0.63       330\n",
      "\n",
      "    accuracy                           0.76      2186\n",
      "   macro avg       0.70      0.64      0.67      2186\n",
      "weighted avg       0.75      0.76      0.75      2186\n",
      "\n"
     ]
    },
    {
     "name": "stderr",
     "output_type": "stream",
     "text": [
      "[Parallel(n_jobs=2)]: Done 100 out of 100 | elapsed:    0.3s finished\n"
     ]
    },
    {
     "data": {
      "text/plain": [
       "<Figure size 640x480 with 0 Axes>"
      ]
     },
     "metadata": {},
     "output_type": "display_data"
    },
    {
     "data": {
      "image/png": "[encoded data removed]",
      "text/plain": [
       "<Figure size 1200x800 with 1 Axes>"
      ]
     },
     "metadata": {},
     "output_type": "display_data"
    }
   ],
   "source": [
    "print(\"Training accuracy\",classifier_rf.score(X_train_tf_idf_SMOTE,y_train_tf_idf_SMOTE))\n",
    "print()\n",
    "print(\"Test accuracy\",classifier_rf.score(x_test_main_tf_idf, y_test_main_tf_idf))\n",
    "print()\n",
    "\n",
    "# Make class predictions for the test set\n",
    "y_test_predict_tf_idf= classifier_rf.predict(x_test_main_tf_idf)\n",
    "print(metrics.classification_report(y_test_main_tf_idf,y_test_predict_tf_idf))\n",
    "\n",
    "cm=confusion_matrix(y_test_predict_tf_idf , y_test_main_tf_idf)\n",
    "plt.figure()\n",
    "plot_confusion_matrix(cm,figsize=(12,8), hide_ticks=True,cmap=plt.cm.Reds)\n",
    "plt.xticks(range(3), ['Negative', 'Neutral', 'Positive'], fontsize=16,color='black')\n",
    "plt.yticks(range(3), ['Negative', 'Neutral', 'Positive'], fontsize=16)\n",
    "plt.show()"
   ]
  },
  {
   "cell_type": "code",
   "execution_count": 206,
   "metadata": {
    "colab": {
     "base_uri": "https://localhost:8080/",
     "height": 0
    },
    "executionInfo": {
     "elapsed": 11,
     "status": "ok",
     "timestamp": 1700512710509,
     "user": {
      "displayName": "Balaji Thiruvenkatachari",
      "userId": "09199609969781368622"
     },
     "user_tz": -330
    },
    "id": "QPcd5twAdE60",
    "outputId": "b64bed3b-eed6-42a8-9a0b-d4069222d341"
   },
   "outputs": [
    {
     "name": "stderr",
     "output_type": "stream",
     "text": [
      "[Parallel(n_jobs=2)]: Using backend ThreadingBackend with 2 concurrent workers.\n",
      "[Parallel(n_jobs=2)]: Done  46 tasks      | elapsed:    0.1s\n",
      "[Parallel(n_jobs=2)]: Done 100 out of 100 | elapsed:    0.2s finished\n"
     ]
    }
   ],
   "source": [
    "Accuracy=[]\n",
    "Model=[]\n",
    "Accuracy.append(classifier_rf.score(x_test_main_tf_idf, y_test_main_tf_idf))\n",
    "Model.append(\"RandomForestClassifier on TfidfVectorizer\")"
   ]
  },
  {
   "cell_type": "markdown",
   "metadata": {
    "id": "rr7dKeRWdjxe"
   },
   "source": [
    "# Conclusions or Final Observations"
   ]
  },
  {
   "cell_type": "markdown",
   "metadata": {
    "id": "ZP9d-UI7dqVd"
   },
   "source": [
    "RandomForestClassifier on TfidfVectorizer has an accuracy of 77% whereas RandomForestClassifier on CountVectorizer has an accuracy of 75%. This shows that the model using TfidfVectorizer is better.\n",
    "Model is able to predict airline sentiment correctly 77% of the time\n",
    "\n",
    "1.   RandomForestClassifier on TfidVectorizer has accuracy of 77%\n",
    "2.   Model is able to predict Airline Sentiment correctly 77% of the time\n",
    "\n"
   ]
  },
  {
   "cell_type": "code",
   "execution_count": null,
   "metadata": {
    "id": "u-V3aWCGdpv0"
   },
   "outputs": [],
   "source": []
  }
 ],
 "metadata": {
  "colab": {
   "authorship_tag": "ABX9TyMAn9t/Q4fAVkCgfPqpTKbV",
   "provenance": [],
   "toc_visible": true
  },
  "kernelspec": {
   "display_name": "Python 3 (ipykernel)",
   "language": "python",
   "name": "python3"
  },
  "language_info": {
   "codemirror_mode": {
    "name": "ipython",
    "version": 3
   },
   "file_extension": ".py",
   "mimetype": "text/x-python",
   "name": "python",
   "nbconvert_exporter": "python",
   "pygments_lexer": "ipython3",
   "version": "3.10.5"
  }
 },
 "nbformat": 4,
 "nbformat_minor": 1
}
