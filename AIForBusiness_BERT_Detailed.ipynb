{
  "nbformat": 4,
  "nbformat_minor": 0,
  "metadata": {
    "colab": {
      "provenance": [],
      "authorship_tag": "ABX9TyMixXrtpedvYCRjSRDLn4cT",
      "include_colab_link": true
    },
    "kernelspec": {
      "name": "python3",
      "display_name": "Python 3"
    },
    "language_info": {
      "name": "python"
    }
  },
  "cells": [
    {
      "cell_type": "markdown",
      "metadata": {
        "id": "view-in-github",
        "colab_type": "text"
      },
      "source": [
        "<a href=\"https://colab.research.google.com/github/stbalaji/AIForBusinessDLNLP/blob/main/AIForBusiness_BERT_Detailed.ipynb\" target=\"_parent\"><img src=\"https://colab.research.google.com/assets/colab-badge.svg\" alt=\"Open In Colab\"/></a>"
      ]
    },
    {
      "cell_type": "code",
      "source": [
        "import tensorflow.keras.backend as K\n",
        "import tensorflow as tf"
      ],
      "metadata": {
        "id": "vrGx8A80XIGf"
      },
      "execution_count": 7,
      "outputs": []
    },
    {
      "cell_type": "code",
      "execution_count": 8,
      "metadata": {
        "id": "rJoOLJGmVmzc"
      },
      "outputs": [],
      "source": [
        "class BertLayer(tf.keras.layers.Layer):\n",
        "\n",
        "    def __init__(self,  n_fine_tune_layers=12,bert_path= \"https://tfhub.dev/google/bert_uncased_L-12_H-768_A-12/1\", **kwargs):\n",
        "        self.n_fine_tune_layers = n_fine_tune_layers\n",
        "        self.trainable = True\n",
        "        self.output_size = 768\n",
        "        self.bert_path = bert_path\n",
        "\n",
        "        super(BertLayer, self).__init__(**kwargs)\n",
        "\n",
        "\n",
        "    def build(self, input_shape):\n",
        "        self.bert = hub.Module(self.bert_path,trainable=self.trainable,name=f\"{self.name}_module\"\n",
        "        )\n",
        "        trainable_vars = self.bert.variables\n",
        "        trainable_vars =  [var for var in trainable_vars if not \"/cls/\" in var.name]\n",
        "        trainable_vars = trainable_vars[-self.n_fine_tune_layers :]\n",
        "\n",
        "        for var in trainable_vars:\n",
        "            self._trainable_weights.append(var)\n",
        "\n",
        "        for var in self.bert.variables:\n",
        "            if var not in self._trainable_weights:\n",
        "                self._non_trainable_weights.append(var)\n",
        "\n",
        "        super(BertLayer, self).build(input_shape)\n",
        "\n",
        "    def call(self, inputs):\n",
        "        inputs = [K.cast(x, dtype=\"int32\") for x in inputs]\n",
        "\n",
        "        input_ids, input_mask, segment_ids = inputs\n",
        "\n",
        "        bert_inputs = dict(input_ids=input_ids, input_mask=input_mask,segment_ids=segment_ids)\n",
        "        result = self.bert(inputs=bert_inputs, signature=\"tokens\", as_dict=True)[\"sequence_output\"]\n",
        "\n",
        "        return result\n",
        "\n",
        "    def compute_output_shape(self, input_shape):\n",
        "        return (input_shape[0], self.output_size)\n"
      ]
    },
    {
      "cell_type": "code",
      "source": [
        "def buildBertModel():\n",
        "  max_seq_length=256\n",
        "  in_id = tf.keras.layers.Input(shape=(max_seq_length,),name=\"input_ids\")\n",
        "  in_mask = tf.keras.layers.Input(shape=(max_seq_length,),name=\"input_masks\")\n",
        "  in_segment = tf.keras.layers.Input(shape=(max_seq_length,), name=\"segment_ids\")\n",
        "\n",
        "  bert_inputs = [in_id, in_mask, in_segment]\n",
        "\n",
        "  bert_output = BertLayer(n_fine_tune_layers=10)(bert_inputs)\n",
        "\n",
        "  drop = keras.layers.Dropout(0.3)(bert_output)\n",
        "  dense = keras.layers.Dense(200, activation='relu')(bert_output)\n",
        "  drop = keras.layers.Dropout(0.3)(dense)\n",
        "  dense = keras.layers.Dense(100, activation='relu')(dense)\n",
        "  pred = keras.layers.Dense(1, activation='sigmoid')(dense)\n",
        "\n",
        "  session = K.get_session()\n",
        "  init = tf.compat.v1.global_variables_initializer()\n",
        "  session.run(init)\n",
        "\n",
        "  model = tf.keras.models.Model(inputs=bert_inputs, outputs=pred)\n",
        "  model.compile(loss=\"binary_crossentropy\", optimizer=\"adam\",metrics=[\"accuracy\"])\n",
        "  model.summary()\n",
        "  return model\n"
      ],
      "metadata": {
        "id": "fgBun5YKXTqk"
      },
      "execution_count": 9,
      "outputs": []
    },
    {
      "cell_type": "code",
      "source": [
        "def convert_examples_to_features(tokenizer, examples, max_seq_length=256):\n",
        "    input_ids, input_masks, segment_ids, labels = [], [], [], []\n",
        "    for example in examples:\n",
        "      input_id, input_mask, segment_id, label = convert_single_example(\n",
        "      tokenizer, example, max_seq_length)\n",
        "      input_ids.append(input_id)\n",
        "      input_masks.append(input_mask)\n",
        "      segment_ids.append(segment_id)\n",
        "      labels.append(label)\n",
        "    return (\n",
        "        np.array(input_ids),\n",
        "        np.array(input_masks),\n",
        "        np.array(segment_ids),\n",
        "        np.array(labels).reshape(-1, 1)\n",
        "    )"
      ],
      "metadata": {
        "id": "Xhyf78DMXsho"
      },
      "execution_count": 10,
      "outputs": []
    },
    {
      "cell_type": "code",
      "source": [
        "import tensorflow.keras.backend as K\n",
        "\n",
        "def createBertFunction():\n",
        "  max_seq_length=256\n",
        "  in_id = tf.keras.layers.Input(shape=(max_seq_length,),name=\"input_ids\")\n",
        "  in_mask = tf.keras.layers.Input(shape=(max_seq_length,),name=\"input_masks\")\n",
        "  in_segment = tf.keras.layers.Input(shape=(max_seq_length,),name=\"segment_ids\")\n",
        "\n",
        "  bert_input = [in_id, in_mask, in_segment]\n",
        "\n",
        "  bert_output = BertLayer(n_fine_tune_layers=10)(bert_input)\n",
        "\n",
        "  func = K.function([bert_input], [bert_output])\n",
        "\n",
        "  session = K.get_session()\n",
        "  init = tf.compat.v1.global_variables_initializer()\n",
        "  session.run(init)\n",
        "\n",
        "  return func\n"
      ],
      "metadata": {
        "id": "qxLoM4kjX4TU"
      },
      "execution_count": 11,
      "outputs": []
    },
    {
      "cell_type": "code",
      "source": [
        "def finetuneBertModel(trainT, valT):\n",
        "    model=buildBertModel()\n",
        "    (train_input_ids, train_input_masks, train_segment_ids,train_labels)=trainT\n",
        "    (val_input_ids,val_input_masks,val_segment_ids,val_labels)=valT\n",
        "\n",
        "    model.fit(\n",
        "        [train_input_ids, train_input_masks, train_segment_ids],\n",
        "        train_labels,\n",
        "        epochs=10,\n",
        "        batch_size=64\n",
        "    )\n"
      ],
      "metadata": {
        "id": "p6OgPFZkX7yq"
      },
      "execution_count": 13,
      "outputs": []
    },
    {
      "cell_type": "code",
      "source": [
        "def convert_single_example(tokenizer, example, max_seq_length=256):\n",
        "    tokens_a = tokenizer.tokenize(example.text)\n",
        "    if len(tokens_a) > max_seq_length - 2:\n",
        "        tokens_a = tokens_a[0 : (max_seq_length - 2)]\n",
        "    tokens = []\n",
        "    segment_ids = []\n",
        "    tokens.append(\"[CLS]\")\n",
        "    segment_ids.append(0)\n",
        "    for token in tokens_a:\n",
        "        tokens.append(token)\n",
        "        segment_ids.append(0)\n",
        "    tokens.append(\"[SEP]\")\n",
        "    segment_ids.append(0)\n",
        "\n",
        "    input_ids = tokenizer.convert_tokens_to_ids(tokens)\n",
        "\n",
        "    input_mask = [1] * len(input_ids)\n",
        "\n",
        "    while len(input_ids) < max_seq_length:\n",
        "        input_ids.append(0)\n",
        "        input_mask.append(0)\n",
        "        segment_ids.append(0)\n",
        "\n",
        "    return (input_ids, input_mask, segment_ids, example.label)\n"
      ],
      "metadata": {
        "id": "JV3OV1PtYV0Q"
      },
      "execution_count": null,
      "outputs": []
    }
  ]
}